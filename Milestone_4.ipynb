{
 "cells": [
  {
   "cell_type": "markdown",
   "id": "90768675",
   "metadata": {},
   "source": [
    "## A Machine Learning Approach to Cardiotocography Interpretation\n",
    "### Authors: Holly Figueroa & Karlie Schwartzwald\n",
    "### Milestone 4 - Modeling/Finalizing Results"
   ]
  },
  {
   "cell_type": "code",
   "execution_count": 1,
   "id": "228bb2ef",
   "metadata": {},
   "outputs": [],
   "source": [
    "import pandas as pd\n",
    "from imblearn.over_sampling import RandomOverSampler\n",
    "from sklearn.model_selection import train_test_split\n",
    "from sklearn.metrics import accuracy_score\n",
    "from sklearn.pipeline import Pipeline, FeatureUnion\n",
    "from sklearn import preprocessing\n",
    "from sklearn.model_selection import GridSearchCV\n",
    "from sklearn.preprocessing import MinMaxScaler, StandardScaler\n",
    "from sklearn.neural_network import MLPClassifier\n",
    "from sklearn.metrics import confusion_matrix, ConfusionMatrixDisplay\n",
    "import matplotlib.pyplot as plt\n",
    "from sklearn.ensemble import BaggingClassifier"
   ]
  },
  {
   "cell_type": "code",
   "execution_count": 2,
   "id": "63893581",
   "metadata": {},
   "outputs": [
    {
     "data": {
      "text/html": [
       "<div>\n",
       "<style scoped>\n",
       "    .dataframe tbody tr th:only-of-type {\n",
       "        vertical-align: middle;\n",
       "    }\n",
       "\n",
       "    .dataframe tbody tr th {\n",
       "        vertical-align: top;\n",
       "    }\n",
       "\n",
       "    .dataframe thead th {\n",
       "        text-align: right;\n",
       "    }\n",
       "</style>\n",
       "<table border=\"1\" class=\"dataframe\">\n",
       "  <thead>\n",
       "    <tr style=\"text-align: right;\">\n",
       "      <th></th>\n",
       "      <th>baseline value</th>\n",
       "      <th>accelerations</th>\n",
       "      <th>fetal_movement</th>\n",
       "      <th>uterine_contractions</th>\n",
       "      <th>light_decelerations</th>\n",
       "      <th>severe_decelerations</th>\n",
       "      <th>prolongued_decelerations</th>\n",
       "      <th>abnormal_short_term_variability</th>\n",
       "      <th>mean_value_of_short_term_variability</th>\n",
       "      <th>percentage_of_time_with_abnormal_long_term_variability</th>\n",
       "      <th>...</th>\n",
       "      <th>histogram_min</th>\n",
       "      <th>histogram_max</th>\n",
       "      <th>histogram_number_of_peaks</th>\n",
       "      <th>histogram_number_of_zeroes</th>\n",
       "      <th>histogram_mode</th>\n",
       "      <th>histogram_mean</th>\n",
       "      <th>histogram_median</th>\n",
       "      <th>histogram_variance</th>\n",
       "      <th>histogram_tendency</th>\n",
       "      <th>fetal_health</th>\n",
       "    </tr>\n",
       "  </thead>\n",
       "  <tbody>\n",
       "    <tr>\n",
       "      <th>0</th>\n",
       "      <td>120.0</td>\n",
       "      <td>0.000</td>\n",
       "      <td>0.0</td>\n",
       "      <td>0.000</td>\n",
       "      <td>0.000</td>\n",
       "      <td>0.0</td>\n",
       "      <td>0.0</td>\n",
       "      <td>73.0</td>\n",
       "      <td>0.5</td>\n",
       "      <td>43.0</td>\n",
       "      <td>...</td>\n",
       "      <td>62.0</td>\n",
       "      <td>126.0</td>\n",
       "      <td>2.0</td>\n",
       "      <td>0.0</td>\n",
       "      <td>120.0</td>\n",
       "      <td>137.0</td>\n",
       "      <td>121.0</td>\n",
       "      <td>73.0</td>\n",
       "      <td>1.0</td>\n",
       "      <td>2.0</td>\n",
       "    </tr>\n",
       "    <tr>\n",
       "      <th>1</th>\n",
       "      <td>132.0</td>\n",
       "      <td>0.006</td>\n",
       "      <td>0.0</td>\n",
       "      <td>0.006</td>\n",
       "      <td>0.003</td>\n",
       "      <td>0.0</td>\n",
       "      <td>0.0</td>\n",
       "      <td>17.0</td>\n",
       "      <td>2.1</td>\n",
       "      <td>0.0</td>\n",
       "      <td>...</td>\n",
       "      <td>68.0</td>\n",
       "      <td>198.0</td>\n",
       "      <td>6.0</td>\n",
       "      <td>1.0</td>\n",
       "      <td>141.0</td>\n",
       "      <td>136.0</td>\n",
       "      <td>140.0</td>\n",
       "      <td>12.0</td>\n",
       "      <td>0.0</td>\n",
       "      <td>1.0</td>\n",
       "    </tr>\n",
       "    <tr>\n",
       "      <th>2</th>\n",
       "      <td>133.0</td>\n",
       "      <td>0.003</td>\n",
       "      <td>0.0</td>\n",
       "      <td>0.008</td>\n",
       "      <td>0.003</td>\n",
       "      <td>0.0</td>\n",
       "      <td>0.0</td>\n",
       "      <td>16.0</td>\n",
       "      <td>2.1</td>\n",
       "      <td>0.0</td>\n",
       "      <td>...</td>\n",
       "      <td>68.0</td>\n",
       "      <td>198.0</td>\n",
       "      <td>5.0</td>\n",
       "      <td>1.0</td>\n",
       "      <td>141.0</td>\n",
       "      <td>135.0</td>\n",
       "      <td>138.0</td>\n",
       "      <td>13.0</td>\n",
       "      <td>0.0</td>\n",
       "      <td>1.0</td>\n",
       "    </tr>\n",
       "    <tr>\n",
       "      <th>3</th>\n",
       "      <td>134.0</td>\n",
       "      <td>0.003</td>\n",
       "      <td>0.0</td>\n",
       "      <td>0.008</td>\n",
       "      <td>0.003</td>\n",
       "      <td>0.0</td>\n",
       "      <td>0.0</td>\n",
       "      <td>16.0</td>\n",
       "      <td>2.4</td>\n",
       "      <td>0.0</td>\n",
       "      <td>...</td>\n",
       "      <td>53.0</td>\n",
       "      <td>170.0</td>\n",
       "      <td>11.0</td>\n",
       "      <td>0.0</td>\n",
       "      <td>137.0</td>\n",
       "      <td>134.0</td>\n",
       "      <td>137.0</td>\n",
       "      <td>13.0</td>\n",
       "      <td>1.0</td>\n",
       "      <td>1.0</td>\n",
       "    </tr>\n",
       "    <tr>\n",
       "      <th>4</th>\n",
       "      <td>132.0</td>\n",
       "      <td>0.007</td>\n",
       "      <td>0.0</td>\n",
       "      <td>0.008</td>\n",
       "      <td>0.000</td>\n",
       "      <td>0.0</td>\n",
       "      <td>0.0</td>\n",
       "      <td>16.0</td>\n",
       "      <td>2.4</td>\n",
       "      <td>0.0</td>\n",
       "      <td>...</td>\n",
       "      <td>53.0</td>\n",
       "      <td>170.0</td>\n",
       "      <td>9.0</td>\n",
       "      <td>0.0</td>\n",
       "      <td>137.0</td>\n",
       "      <td>136.0</td>\n",
       "      <td>138.0</td>\n",
       "      <td>11.0</td>\n",
       "      <td>1.0</td>\n",
       "      <td>1.0</td>\n",
       "    </tr>\n",
       "  </tbody>\n",
       "</table>\n",
       "<p>5 rows × 22 columns</p>\n",
       "</div>"
      ],
      "text/plain": [
       "   baseline value  accelerations  fetal_movement  uterine_contractions  \\\n",
       "0           120.0          0.000             0.0                 0.000   \n",
       "1           132.0          0.006             0.0                 0.006   \n",
       "2           133.0          0.003             0.0                 0.008   \n",
       "3           134.0          0.003             0.0                 0.008   \n",
       "4           132.0          0.007             0.0                 0.008   \n",
       "\n",
       "   light_decelerations  severe_decelerations  prolongued_decelerations  \\\n",
       "0                0.000                   0.0                       0.0   \n",
       "1                0.003                   0.0                       0.0   \n",
       "2                0.003                   0.0                       0.0   \n",
       "3                0.003                   0.0                       0.0   \n",
       "4                0.000                   0.0                       0.0   \n",
       "\n",
       "   abnormal_short_term_variability  mean_value_of_short_term_variability  \\\n",
       "0                             73.0                                   0.5   \n",
       "1                             17.0                                   2.1   \n",
       "2                             16.0                                   2.1   \n",
       "3                             16.0                                   2.4   \n",
       "4                             16.0                                   2.4   \n",
       "\n",
       "   percentage_of_time_with_abnormal_long_term_variability  ...  histogram_min  \\\n",
       "0                                               43.0       ...           62.0   \n",
       "1                                                0.0       ...           68.0   \n",
       "2                                                0.0       ...           68.0   \n",
       "3                                                0.0       ...           53.0   \n",
       "4                                                0.0       ...           53.0   \n",
       "\n",
       "   histogram_max  histogram_number_of_peaks  histogram_number_of_zeroes  \\\n",
       "0          126.0                        2.0                         0.0   \n",
       "1          198.0                        6.0                         1.0   \n",
       "2          198.0                        5.0                         1.0   \n",
       "3          170.0                       11.0                         0.0   \n",
       "4          170.0                        9.0                         0.0   \n",
       "\n",
       "   histogram_mode  histogram_mean  histogram_median  histogram_variance  \\\n",
       "0           120.0           137.0             121.0                73.0   \n",
       "1           141.0           136.0             140.0                12.0   \n",
       "2           141.0           135.0             138.0                13.0   \n",
       "3           137.0           134.0             137.0                13.0   \n",
       "4           137.0           136.0             138.0                11.0   \n",
       "\n",
       "   histogram_tendency  fetal_health  \n",
       "0                 1.0           2.0  \n",
       "1                 0.0           1.0  \n",
       "2                 0.0           1.0  \n",
       "3                 1.0           1.0  \n",
       "4                 1.0           1.0  \n",
       "\n",
       "[5 rows x 22 columns]"
      ]
     },
     "execution_count": 2,
     "metadata": {},
     "output_type": "execute_result"
    }
   ],
   "source": [
    "# Load data and view\n",
    "fetal_health = pd.read_csv('fetal_health.csv')\n",
    "fetal_health.head()"
   ]
  },
  {
   "cell_type": "code",
   "execution_count": 3,
   "id": "8241f6f7",
   "metadata": {},
   "outputs": [
    {
     "data": {
      "text/plain": [
       "1.0    1655\n",
       "2.0     295\n",
       "3.0     176\n",
       "Name: fetal_health, dtype: int64"
      ]
     },
     "execution_count": 3,
     "metadata": {},
     "output_type": "execute_result"
    }
   ],
   "source": [
    "fetal_health['fetal_health'].value_counts()"
   ]
  },
  {
   "cell_type": "code",
   "execution_count": 4,
   "id": "3c56b0c6",
   "metadata": {},
   "outputs": [],
   "source": [
    "# Remove highly correlated features, leaving hist mean\n",
    "fetal_health = fetal_health.drop(['histogram_median', 'histogram_mode'], axis = 1)"
   ]
  },
  {
   "cell_type": "code",
   "execution_count": 5,
   "id": "a15ae2df",
   "metadata": {},
   "outputs": [],
   "source": [
    "# Separate features from target\n",
    "X = fetal_health.drop(['fetal_health'], axis = 1)\n",
    "y = fetal_health['fetal_health']"
   ]
  },
  {
   "cell_type": "code",
   "execution_count": null,
   "id": "7b6dfb50",
   "metadata": {},
   "outputs": [],
   "source": [
    "# ![image.png](attachment:image.png)\n",
    "# ![image-2.png](attachment:image-2.png)\n",
    "# ![image-3.png](attachment:image-3.png)\n",
    "# ![image-4.png](attachment:image-4.png)"
   ]
  },
  {
   "cell_type": "code",
   "execution_count": 151,
   "id": "a9aec45a",
   "metadata": {},
   "outputs": [
    {
     "name": "stdout",
     "output_type": "stream",
     "text": [
      "(1700, 19) (1700,) (426, 19) (426,)\n"
     ]
    }
   ],
   "source": [
    "# train test split data using stratify to preserve the class ratios\n",
    "train_X, test_X, train_y, test_y = train_test_split(X,y, test_size = 0.2, stratify = y, random_state = 5)\n",
    "# Check shape\n",
    "print(train_X.shape, train_y.shape, test_X.shape, test_y.shape)"
   ]
  },
  {
   "cell_type": "code",
   "execution_count": 152,
   "id": "d1b7e86e",
   "metadata": {},
   "outputs": [
    {
     "data": {
      "text/plain": [
       "1.0    1323\n",
       "2.0     236\n",
       "3.0     141\n",
       "Name: fetal_health, dtype: int64"
      ]
     },
     "execution_count": 152,
     "metadata": {},
     "output_type": "execute_result"
    }
   ],
   "source": [
    "# get target class proportions of the training set\n",
    "train_y.value_counts()"
   ]
  },
  {
   "cell_type": "code",
   "execution_count": 153,
   "id": "ec5065f8",
   "metadata": {},
   "outputs": [
    {
     "data": {
      "text/plain": [
       "1.0    332\n",
       "2.0     59\n",
       "3.0     35\n",
       "Name: fetal_health, dtype: int64"
      ]
     },
     "execution_count": 153,
     "metadata": {},
     "output_type": "execute_result"
    }
   ],
   "source": [
    "test_y.value_counts()"
   ]
  },
  {
   "cell_type": "code",
   "execution_count": 154,
   "id": "4d13cf5b",
   "metadata": {},
   "outputs": [
    {
     "name": "stdout",
     "output_type": "stream",
     "text": [
      "Null accuracy score: 0.7782\n"
     ]
    }
   ],
   "source": [
    "# check null accuracy score\n",
    "null_accuracy = (1323/(236+141+1323))\n",
    "print('Null accuracy score: {0:0.4f}'. format(null_accuracy))"
   ]
  },
  {
   "cell_type": "markdown",
   "id": "51720a81",
   "metadata": {},
   "source": [
    "### MLP Nueral Network\n",
    "#### Stratified Y Test Split, Oversampling, & Gridsearch"
   ]
  },
  {
   "cell_type": "code",
   "execution_count": 155,
   "id": "90323646",
   "metadata": {},
   "outputs": [],
   "source": [
    "# Random Oversampling\n",
    "over_sampler = RandomOverSampler(sampling_strategy = 'auto')\n",
    "ros_X, ros_y = over_sampler.fit_resample(train_X,train_y)"
   ]
  },
  {
   "cell_type": "code",
   "execution_count": 156,
   "id": "1204de75",
   "metadata": {},
   "outputs": [
    {
     "data": {
      "text/plain": [
       "2.0    1323\n",
       "1.0    1323\n",
       "3.0    1323\n",
       "Name: fetal_health, dtype: int64"
      ]
     },
     "execution_count": 156,
     "metadata": {},
     "output_type": "execute_result"
    }
   ],
   "source": [
    "# Check counts/oversampling results\n",
    "ros_y.value_counts()"
   ]
  },
  {
   "cell_type": "code",
   "execution_count": 157,
   "id": "82c2d92f",
   "metadata": {},
   "outputs": [],
   "source": [
    "# Encode classes so they are 0-2 instead of 1-3\n",
    "# Now training y and test_y will be label encoded and oversampled\n",
    "enc = preprocessing.LabelEncoder()\n",
    "ros_y = enc.fit_transform(ros_y)\n",
    "test_y = enc.transform(test_y)"
   ]
  },
  {
   "cell_type": "code",
   "execution_count": 158,
   "id": "07f0a42f",
   "metadata": {},
   "outputs": [],
   "source": [
    "# Create scaler\n",
    "scaler = StandardScaler()\n",
    "# Create Model Instance for gridsearching parameters\n",
    "mlp = MLPClassifier()\n",
    "# Create pipeline\n",
    "pipe = Pipeline(steps=[('scaler', scaler ), ('mlpc', mlp)])"
   ]
  },
  {
   "cell_type": "markdown",
   "id": "2ec71caa",
   "metadata": {},
   "source": [
    "### ***Grid search is commented out to prevent lengthy- rerunning***"
   ]
  },
  {
   "cell_type": "code",
   "execution_count": 159,
   "id": "fee7a07a",
   "metadata": {},
   "outputs": [],
   "source": [
    "# mlp.get_params()"
   ]
  },
  {
   "cell_type": "code",
   "execution_count": 160,
   "id": "49fdacd1",
   "metadata": {},
   "outputs": [],
   "source": [
    "# # Define gridspace\n",
    "# param_grid= [{'mlpc__activation': ['relu','tanh'],\n",
    "#              'mlpc__alpha': [0.0025, 0.05, 0.5 ],\n",
    "#              'mlpc__hidden_layer_sizes': [(12,6)],\n",
    "#              'mlpc__max_iter': [2000],\n",
    "#              'mlpc__solver': ['adam','lbfgs'],\n",
    "#              'mlpc__batch_size': [20,30,50],\n",
    "#              'mlpc__learning_rate':['invscaling','adaptive']\n",
    "#              }]"
   ]
  },
  {
   "cell_type": "code",
   "execution_count": 161,
   "id": "5d6bc904",
   "metadata": {},
   "outputs": [],
   "source": [
    "# # Run a new gridsearch with new search_space\n",
    "# grid_mlp = GridSearchCV(pipe, param_grid, n_jobs= -1, cv = 2, verbose = 0)"
   ]
  },
  {
   "cell_type": "code",
   "execution_count": 162,
   "id": "80f172eb",
   "metadata": {},
   "outputs": [],
   "source": [
    "# # Fit grid search\n",
    "# grid_mlp.fit(ros_X,ros_y)"
   ]
  },
  {
   "cell_type": "code",
   "execution_count": 163,
   "id": "9ee7256a",
   "metadata": {},
   "outputs": [],
   "source": [
    "# grid_mlp.best_params_"
   ]
  },
  {
   "cell_type": "code",
   "execution_count": 164,
   "id": "76cdc06f",
   "metadata": {},
   "outputs": [],
   "source": [
    "# print('Best score: ', grid_mlp.best_score_)\n",
    "# print('Test Accuracy: ', grid_mlp.score(test_X, test_y))"
   ]
  },
  {
   "cell_type": "code",
   "execution_count": 165,
   "id": "34b344da",
   "metadata": {},
   "outputs": [],
   "source": [
    "# Create MLP model with chosen params\n",
    "best_mlp = MLPClassifier(\n",
    "                        activation= 'tanh', \n",
    "                        alpha = 0.001, \n",
    "                        hidden_layer_sizes = (12,6), \n",
    "                        max_iter = 2000, \n",
    "                        solver = 'lbfgs',\n",
    "                        random_state = 12,\n",
    "                        learning_rate = 'adaptive'\n",
    "                        )"
   ]
  },
  {
   "cell_type": "code",
   "execution_count": 166,
   "id": "13369cf0",
   "metadata": {},
   "outputs": [],
   "source": [
    "# Update pipeline\n",
    "pipe = Pipeline(steps=[('scaler', scaler ), ('mlpc', best_mlp)])\n",
    "\n",
    "# Fit to features\n",
    "pipe.fit(ros_X, ros_y)\n",
    "\n",
    "\n",
    "# Get predictions\n",
    "pred_y = pipe.predict(test_X)"
   ]
  },
  {
   "cell_type": "code",
   "execution_count": 167,
   "id": "db0213e5",
   "metadata": {},
   "outputs": [
    {
     "data": {
      "text/plain": [
       "0.903755868544601"
      ]
     },
     "execution_count": 167,
     "metadata": {},
     "output_type": "execute_result"
    }
   ],
   "source": [
    "accuracy_score(test_y, pred_y)"
   ]
  },
  {
   "cell_type": "code",
   "execution_count": 168,
   "id": "3561e8e9",
   "metadata": {},
   "outputs": [],
   "source": [
    "# Create confusion matrix\n",
    "cm = confusion_matrix(test_y, pred_y)"
   ]
  },
  {
   "cell_type": "code",
   "execution_count": 169,
   "id": "8c2321b3",
   "metadata": {},
   "outputs": [
    {
     "data": {
      "image/png": "[encoded data removed]",
      "text/plain": [
       "<Figure size 432x288 with 2 Axes>"
      ]
     },
     "metadata": {
      "needs_background": "light"
     },
     "output_type": "display_data"
    }
   ],
   "source": [
    "# use display matrix function to heatmap prediction/true cases\n",
    "disp = ConfusionMatrixDisplay(confusion_matrix=cm)\n",
    "disp.plot()\n",
    "\n",
    "plt.show()"
   ]
  },
  {
   "cell_type": "code",
   "execution_count": 170,
   "id": "8aac9903",
   "metadata": {},
   "outputs": [],
   "source": [
    "def get_tpr_fnr_fpr_tnr(cm):\n",
    "    \"\"\"\n",
    "    This function returns class-wise TPR, FNR, FPR & TNR\n",
    "    [[cm]]: a 2-D array of a multiclass confusion matrix\n",
    "            where horizontal axes represent actual classes\n",
    "            and vertical axes represent predicted classes\n",
    "    {output}: a dictionary of class-wise accuracy parameters\n",
    "    \"\"\"\n",
    "    dict_metric = dict()\n",
    "    n = len(cm[0])\n",
    "    row_sums = cm.sum(axis=1)\n",
    "    col_sums = cm.sum(axis=0)\n",
    "    array_sum = sum(sum(cm))\n",
    "    #initialize a blank nested dictionary\n",
    "    for i in range(1, n+1):\n",
    "        keys = str(i)\n",
    "        dict_metric[keys] = {\"TPR\":0, \"FNR\":0, \"FPR\":0, \"TNR\":0}\n",
    "    # calculate and store class-wise TPR, FNR, FPR, TNR\n",
    "    for i in range(n):\n",
    "        for j in range(n):\n",
    "            if i == j:\n",
    "                keys = str(i+1)\n",
    "                tp = cm[i, j]\n",
    "                fn = row_sums[i] - cm[i, j]\n",
    "                dict_metric[keys][\"TPR\"] = tp / (tp + fn)\n",
    "                dict_metric[keys][\"FNR\"] = fn / (tp + fn)\n",
    "                fp = col_sums[i] - cm[i, j]\n",
    "                tn = array_sum - tp - fn - fp\n",
    "                dict_metric[keys][\"FPR\"] = fp / (fp + tn)\n",
    "                dict_metric[keys][\"TNR\"] = tn / (fp + tn)\n",
    "    return dict_metric"
   ]
  },
  {
   "cell_type": "code",
   "execution_count": 171,
   "id": "42a2fa01",
   "metadata": {},
   "outputs": [
    {
     "data": {
      "text/html": [
       "<div>\n",
       "<style scoped>\n",
       "    .dataframe tbody tr th:only-of-type {\n",
       "        vertical-align: middle;\n",
       "    }\n",
       "\n",
       "    .dataframe tbody tr th {\n",
       "        vertical-align: top;\n",
       "    }\n",
       "\n",
       "    .dataframe thead th {\n",
       "        text-align: right;\n",
       "    }\n",
       "</style>\n",
       "<table border=\"1\" class=\"dataframe\">\n",
       "  <thead>\n",
       "    <tr style=\"text-align: right;\">\n",
       "      <th></th>\n",
       "      <th>TPR</th>\n",
       "      <th>FNR</th>\n",
       "      <th>FPR</th>\n",
       "      <th>TNR</th>\n",
       "    </tr>\n",
       "  </thead>\n",
       "  <tbody>\n",
       "    <tr>\n",
       "      <th>1</th>\n",
       "      <td>0.954819</td>\n",
       "      <td>0.045181</td>\n",
       "      <td>0.127660</td>\n",
       "      <td>0.872340</td>\n",
       "    </tr>\n",
       "    <tr>\n",
       "      <th>2</th>\n",
       "      <td>0.728814</td>\n",
       "      <td>0.271186</td>\n",
       "      <td>0.059946</td>\n",
       "      <td>0.940054</td>\n",
       "    </tr>\n",
       "    <tr>\n",
       "      <th>3</th>\n",
       "      <td>0.714286</td>\n",
       "      <td>0.285714</td>\n",
       "      <td>0.017903</td>\n",
       "      <td>0.982097</td>\n",
       "    </tr>\n",
       "  </tbody>\n",
       "</table>\n",
       "</div>"
      ],
      "text/plain": [
       "        TPR       FNR       FPR       TNR\n",
       "1  0.954819  0.045181  0.127660  0.872340\n",
       "2  0.728814  0.271186  0.059946  0.940054\n",
       "3  0.714286  0.285714  0.017903  0.982097"
      ]
     },
     "execution_count": 171,
     "metadata": {},
     "output_type": "execute_result"
    }
   ],
   "source": [
    "rates_df = pd.DataFrame(get_tpr_fnr_fpr_tnr(cm)).transpose()\n",
    "rates_df"
   ]
  },
  {
   "attachments": {
    "image.png": {
     "image/png": "[encoded data removed]"
    }
   },
   "cell_type": "markdown",
   "id": "e3df7565",
   "metadata": {},
   "source": [
    "![image.png](attachment:image.png)"
   ]
  },
  {
   "cell_type": "code",
   "execution_count": null,
   "id": "d7e2d66a",
   "metadata": {},
   "outputs": [],
   "source": []
  },
  {
   "cell_type": "code",
   "execution_count": null,
   "id": "93c07cad",
   "metadata": {},
   "outputs": [],
   "source": []
  },
  {
   "cell_type": "code",
   "execution_count": null,
   "id": "0e6c9f9e",
   "metadata": {},
   "outputs": [],
   "source": []
  },
  {
   "cell_type": "code",
   "execution_count": null,
   "id": "b2d798f7",
   "metadata": {},
   "outputs": [],
   "source": []
  },
  {
   "cell_type": "code",
   "execution_count": null,
   "id": "c898f1f2",
   "metadata": {},
   "outputs": [],
   "source": []
  },
  {
   "cell_type": "code",
   "execution_count": null,
   "id": "de8c2947",
   "metadata": {},
   "outputs": [],
   "source": []
  },
  {
   "cell_type": "code",
   "execution_count": null,
   "id": "c18a9163",
   "metadata": {},
   "outputs": [],
   "source": []
  },
  {
   "cell_type": "code",
   "execution_count": null,
   "id": "12684068",
   "metadata": {},
   "outputs": [],
   "source": []
  },
  {
   "cell_type": "code",
   "execution_count": null,
   "id": "bab53b35",
   "metadata": {},
   "outputs": [],
   "source": []
  },
  {
   "cell_type": "code",
   "execution_count": null,
   "id": "9b9dc6ed",
   "metadata": {},
   "outputs": [],
   "source": []
  },
  {
   "cell_type": "code",
   "execution_count": null,
   "id": "0fb4be7b",
   "metadata": {},
   "outputs": [],
   "source": []
  },
  {
   "cell_type": "code",
   "execution_count": null,
   "id": "22295a28",
   "metadata": {},
   "outputs": [],
   "source": []
  },
  {
   "cell_type": "code",
   "execution_count": null,
   "id": "a6b4088c",
   "metadata": {},
   "outputs": [],
   "source": []
  },
  {
   "cell_type": "markdown",
   "id": "a6e9e23c",
   "metadata": {},
   "source": [
    "### Naive Bayes \n",
    "#### With Bagging and then without"
   ]
  },
  {
   "cell_type": "code",
   "execution_count": 25,
   "id": "94e2d006",
   "metadata": {},
   "outputs": [],
   "source": [
    "from sklearn.naive_bayes import ComplementNB\n",
    "from sklearn.naive_bayes import GaussianNB"
   ]
  },
  {
   "cell_type": "code",
   "execution_count": 26,
   "id": "e603674e",
   "metadata": {},
   "outputs": [
    {
     "name": "stdout",
     "output_type": "stream",
     "text": [
      "(1700, 19) (1700,) (426, 19) (426,)\n"
     ]
    }
   ],
   "source": [
    "# train test split data using stratify to preserve the class ratios\n",
    "train_X, test_X, train_y, test_y = train_test_split(X,y, test_size = 0.2, stratify = y, random_state = 5)\n",
    "# Check shape\n",
    "print(train_X.shape, train_y.shape, test_X.shape, test_y.shape)"
   ]
  },
  {
   "cell_type": "code",
   "execution_count": 27,
   "id": "5fe27ac2",
   "metadata": {},
   "outputs": [],
   "source": [
    "\n",
    "# Train scaler and encorder on training sets\n",
    "minmax = MinMaxScaler().fit(train_X)\n",
    "enc2 = preprocessing.LabelEncoder().fit(train_y)\n",
    "\n",
    "# Transform training sets\n",
    "mm_train_X = minmax.transform(train_X)\n",
    "enc2_train_y = enc2.transform(train_y)\n",
    "\n",
    "# Transform test sets\n",
    "mm_test_X = minmax.transform(test_X)\n",
    "enc2_test_y = enc2.transform(test_y)"
   ]
  },
  {
   "cell_type": "markdown",
   "id": "746e98b0",
   "metadata": {},
   "source": [
    "#### Testing models for both Complement NB (cnb) and Gaussian NB (gnb)"
   ]
  },
  {
   "cell_type": "code",
   "execution_count": 28,
   "id": "eaf00e34",
   "metadata": {},
   "outputs": [],
   "source": [
    "cnb = ComplementNB(alpha = 35)\n",
    "\n",
    "gnb = GaussianNB( var_smoothing = .6,)"
   ]
  },
  {
   "cell_type": "code",
   "execution_count": 29,
   "id": "b4711b2c",
   "metadata": {},
   "outputs": [
    {
     "data": {
      "text/html": [
       "<style>#sk-container-id-1 {color: black;background-color: white;}#sk-container-id-1 pre{padding: 0;}#sk-container-id-1 div.sk-toggleable {background-color: white;}#sk-container-id-1 label.sk-toggleable__label {cursor: pointer;display: block;width: 100%;margin-bottom: 0;padding: 0.3em;box-sizing: border-box;text-align: center;}#sk-container-id-1 label.sk-toggleable__label-arrow:before {content: \"▸\";float: left;margin-right: 0.25em;color: #696969;}#sk-container-id-1 label.sk-toggleable__label-arrow:hover:before {color: black;}#sk-container-id-1 div.sk-estimator:hover label.sk-toggleable__label-arrow:before {color: black;}#sk-container-id-1 div.sk-toggleable__content {max-height: 0;max-width: 0;overflow: hidden;text-align: left;background-color: #f0f8ff;}#sk-container-id-1 div.sk-toggleable__content pre {margin: 0.2em;color: black;border-radius: 0.25em;background-color: #f0f8ff;}#sk-container-id-1 input.sk-toggleable__control:checked~div.sk-toggleable__content {max-height: 200px;max-width: 100%;overflow: auto;}#sk-container-id-1 input.sk-toggleable__control:checked~label.sk-toggleable__label-arrow:before {content: \"▾\";}#sk-container-id-1 div.sk-estimator input.sk-toggleable__control:checked~label.sk-toggleable__label {background-color: #d4ebff;}#sk-container-id-1 div.sk-label input.sk-toggleable__control:checked~label.sk-toggleable__label {background-color: #d4ebff;}#sk-container-id-1 input.sk-hidden--visually {border: 0;clip: rect(1px 1px 1px 1px);clip: rect(1px, 1px, 1px, 1px);height: 1px;margin: -1px;overflow: hidden;padding: 0;position: absolute;width: 1px;}#sk-container-id-1 div.sk-estimator {font-family: monospace;background-color: #f0f8ff;border: 1px dotted black;border-radius: 0.25em;box-sizing: border-box;margin-bottom: 0.5em;}#sk-container-id-1 div.sk-estimator:hover {background-color: #d4ebff;}#sk-container-id-1 div.sk-parallel-item::after {content: \"\";width: 100%;border-bottom: 1px solid gray;flex-grow: 1;}#sk-container-id-1 div.sk-label:hover label.sk-toggleable__label {background-color: #d4ebff;}#sk-container-id-1 div.sk-serial::before {content: \"\";position: absolute;border-left: 1px solid gray;box-sizing: border-box;top: 0;bottom: 0;left: 50%;z-index: 0;}#sk-container-id-1 div.sk-serial {display: flex;flex-direction: column;align-items: center;background-color: white;padding-right: 0.2em;padding-left: 0.2em;position: relative;}#sk-container-id-1 div.sk-item {position: relative;z-index: 1;}#sk-container-id-1 div.sk-parallel {display: flex;align-items: stretch;justify-content: center;background-color: white;position: relative;}#sk-container-id-1 div.sk-item::before, #sk-container-id-1 div.sk-parallel-item::before {content: \"\";position: absolute;border-left: 1px solid gray;box-sizing: border-box;top: 0;bottom: 0;left: 50%;z-index: -1;}#sk-container-id-1 div.sk-parallel-item {display: flex;flex-direction: column;z-index: 1;position: relative;background-color: white;}#sk-container-id-1 div.sk-parallel-item:first-child::after {align-self: flex-end;width: 50%;}#sk-container-id-1 div.sk-parallel-item:last-child::after {align-self: flex-start;width: 50%;}#sk-container-id-1 div.sk-parallel-item:only-child::after {width: 0;}#sk-container-id-1 div.sk-dashed-wrapped {border: 1px dashed gray;margin: 0 0.4em 0.5em 0.4em;box-sizing: border-box;padding-bottom: 0.4em;background-color: white;}#sk-container-id-1 div.sk-label label {font-family: monospace;font-weight: bold;display: inline-block;line-height: 1.2em;}#sk-container-id-1 div.sk-label-container {text-align: center;}#sk-container-id-1 div.sk-container {/* jupyter's `normalize.less` sets `[hidden] { display: none; }` but bootstrap.min.css set `[hidden] { display: none !important; }` so we also need the `!important` here to be able to override the default hidden behavior on the sphinx rendered scikit-learn.org. See: https://github.com/scikit-learn/scikit-learn/issues/21755 */display: inline-block !important;position: relative;}#sk-container-id-1 div.sk-text-repr-fallback {display: none;}</style><div id=\"sk-container-id-1\" class=\"sk-top-container\"><div class=\"sk-text-repr-fallback\"><pre>BaggingClassifier(base_estimator=ComplementNB(alpha=35), bootstrap=False,\n",
       "                  max_samples=0.6, n_estimators=101, random_state=2)</pre><b>In a Jupyter environment, please rerun this cell to show the HTML representation or trust the notebook. <br />On GitHub, the HTML representation is unable to render, please try loading this page with nbviewer.org.</b></div><div class=\"sk-container\" hidden><div class=\"sk-item sk-dashed-wrapped\"><div class=\"sk-label-container\"><div class=\"sk-label sk-toggleable\"><input class=\"sk-toggleable__control sk-hidden--visually\" id=\"sk-estimator-id-1\" type=\"checkbox\" ><label for=\"sk-estimator-id-1\" class=\"sk-toggleable__label sk-toggleable__label-arrow\">BaggingClassifier</label><div class=\"sk-toggleable__content\"><pre>BaggingClassifier(base_estimator=ComplementNB(alpha=35), bootstrap=False,\n",
       "                  max_samples=0.6, n_estimators=101, random_state=2)</pre></div></div></div><div class=\"sk-parallel\"><div class=\"sk-parallel-item\"><div class=\"sk-item\"><div class=\"sk-label-container\"><div class=\"sk-label sk-toggleable\"><input class=\"sk-toggleable__control sk-hidden--visually\" id=\"sk-estimator-id-2\" type=\"checkbox\" ><label for=\"sk-estimator-id-2\" class=\"sk-toggleable__label sk-toggleable__label-arrow\">base_estimator: ComplementNB</label><div class=\"sk-toggleable__content\"><pre>ComplementNB(alpha=35)</pre></div></div></div><div class=\"sk-serial\"><div class=\"sk-item\"><div class=\"sk-estimator sk-toggleable\"><input class=\"sk-toggleable__control sk-hidden--visually\" id=\"sk-estimator-id-3\" type=\"checkbox\" ><label for=\"sk-estimator-id-3\" class=\"sk-toggleable__label sk-toggleable__label-arrow\">ComplementNB</label><div class=\"sk-toggleable__content\"><pre>ComplementNB(alpha=35)</pre></div></div></div></div></div></div></div></div></div></div>"
      ],
      "text/plain": [
       "BaggingClassifier(base_estimator=ComplementNB(alpha=35), bootstrap=False,\n",
       "                  max_samples=0.6, n_estimators=101, random_state=2)"
      ]
     },
     "execution_count": 29,
     "metadata": {},
     "output_type": "execute_result"
    }
   ],
   "source": [
    "cbag_model = BaggingClassifier(\n",
    "    base_estimator = cnb,\n",
    "    bootstrap = False,\n",
    "    n_estimators = 101,\n",
    "    max_samples =0.6,\n",
    "    random_state = 2)\n",
    "\n",
    "cbag_model.fit(mm_train_X, enc2_train_y)\n"
   ]
  },
  {
   "cell_type": "code",
   "execution_count": 30,
   "id": "6f21da01",
   "metadata": {},
   "outputs": [
    {
     "data": {
      "text/html": [
       "<style>#sk-container-id-2 {color: black;background-color: white;}#sk-container-id-2 pre{padding: 0;}#sk-container-id-2 div.sk-toggleable {background-color: white;}#sk-container-id-2 label.sk-toggleable__label {cursor: pointer;display: block;width: 100%;margin-bottom: 0;padding: 0.3em;box-sizing: border-box;text-align: center;}#sk-container-id-2 label.sk-toggleable__label-arrow:before {content: \"▸\";float: left;margin-right: 0.25em;color: #696969;}#sk-container-id-2 label.sk-toggleable__label-arrow:hover:before {color: black;}#sk-container-id-2 div.sk-estimator:hover label.sk-toggleable__label-arrow:before {color: black;}#sk-container-id-2 div.sk-toggleable__content {max-height: 0;max-width: 0;overflow: hidden;text-align: left;background-color: #f0f8ff;}#sk-container-id-2 div.sk-toggleable__content pre {margin: 0.2em;color: black;border-radius: 0.25em;background-color: #f0f8ff;}#sk-container-id-2 input.sk-toggleable__control:checked~div.sk-toggleable__content {max-height: 200px;max-width: 100%;overflow: auto;}#sk-container-id-2 input.sk-toggleable__control:checked~label.sk-toggleable__label-arrow:before {content: \"▾\";}#sk-container-id-2 div.sk-estimator input.sk-toggleable__control:checked~label.sk-toggleable__label {background-color: #d4ebff;}#sk-container-id-2 div.sk-label input.sk-toggleable__control:checked~label.sk-toggleable__label {background-color: #d4ebff;}#sk-container-id-2 input.sk-hidden--visually {border: 0;clip: rect(1px 1px 1px 1px);clip: rect(1px, 1px, 1px, 1px);height: 1px;margin: -1px;overflow: hidden;padding: 0;position: absolute;width: 1px;}#sk-container-id-2 div.sk-estimator {font-family: monospace;background-color: #f0f8ff;border: 1px dotted black;border-radius: 0.25em;box-sizing: border-box;margin-bottom: 0.5em;}#sk-container-id-2 div.sk-estimator:hover {background-color: #d4ebff;}#sk-container-id-2 div.sk-parallel-item::after {content: \"\";width: 100%;border-bottom: 1px solid gray;flex-grow: 1;}#sk-container-id-2 div.sk-label:hover label.sk-toggleable__label {background-color: #d4ebff;}#sk-container-id-2 div.sk-serial::before {content: \"\";position: absolute;border-left: 1px solid gray;box-sizing: border-box;top: 0;bottom: 0;left: 50%;z-index: 0;}#sk-container-id-2 div.sk-serial {display: flex;flex-direction: column;align-items: center;background-color: white;padding-right: 0.2em;padding-left: 0.2em;position: relative;}#sk-container-id-2 div.sk-item {position: relative;z-index: 1;}#sk-container-id-2 div.sk-parallel {display: flex;align-items: stretch;justify-content: center;background-color: white;position: relative;}#sk-container-id-2 div.sk-item::before, #sk-container-id-2 div.sk-parallel-item::before {content: \"\";position: absolute;border-left: 1px solid gray;box-sizing: border-box;top: 0;bottom: 0;left: 50%;z-index: -1;}#sk-container-id-2 div.sk-parallel-item {display: flex;flex-direction: column;z-index: 1;position: relative;background-color: white;}#sk-container-id-2 div.sk-parallel-item:first-child::after {align-self: flex-end;width: 50%;}#sk-container-id-2 div.sk-parallel-item:last-child::after {align-self: flex-start;width: 50%;}#sk-container-id-2 div.sk-parallel-item:only-child::after {width: 0;}#sk-container-id-2 div.sk-dashed-wrapped {border: 1px dashed gray;margin: 0 0.4em 0.5em 0.4em;box-sizing: border-box;padding-bottom: 0.4em;background-color: white;}#sk-container-id-2 div.sk-label label {font-family: monospace;font-weight: bold;display: inline-block;line-height: 1.2em;}#sk-container-id-2 div.sk-label-container {text-align: center;}#sk-container-id-2 div.sk-container {/* jupyter's `normalize.less` sets `[hidden] { display: none; }` but bootstrap.min.css set `[hidden] { display: none !important; }` so we also need the `!important` here to be able to override the default hidden behavior on the sphinx rendered scikit-learn.org. See: https://github.com/scikit-learn/scikit-learn/issues/21755 */display: inline-block !important;position: relative;}#sk-container-id-2 div.sk-text-repr-fallback {display: none;}</style><div id=\"sk-container-id-2\" class=\"sk-top-container\"><div class=\"sk-text-repr-fallback\"><pre>BaggingClassifier(base_estimator=GaussianNB(var_smoothing=0.6), bootstrap=False,\n",
       "                  max_samples=0.6, n_estimators=101, random_state=2)</pre><b>In a Jupyter environment, please rerun this cell to show the HTML representation or trust the notebook. <br />On GitHub, the HTML representation is unable to render, please try loading this page with nbviewer.org.</b></div><div class=\"sk-container\" hidden><div class=\"sk-item sk-dashed-wrapped\"><div class=\"sk-label-container\"><div class=\"sk-label sk-toggleable\"><input class=\"sk-toggleable__control sk-hidden--visually\" id=\"sk-estimator-id-4\" type=\"checkbox\" ><label for=\"sk-estimator-id-4\" class=\"sk-toggleable__label sk-toggleable__label-arrow\">BaggingClassifier</label><div class=\"sk-toggleable__content\"><pre>BaggingClassifier(base_estimator=GaussianNB(var_smoothing=0.6), bootstrap=False,\n",
       "                  max_samples=0.6, n_estimators=101, random_state=2)</pre></div></div></div><div class=\"sk-parallel\"><div class=\"sk-parallel-item\"><div class=\"sk-item\"><div class=\"sk-label-container\"><div class=\"sk-label sk-toggleable\"><input class=\"sk-toggleable__control sk-hidden--visually\" id=\"sk-estimator-id-5\" type=\"checkbox\" ><label for=\"sk-estimator-id-5\" class=\"sk-toggleable__label sk-toggleable__label-arrow\">base_estimator: GaussianNB</label><div class=\"sk-toggleable__content\"><pre>GaussianNB(var_smoothing=0.6)</pre></div></div></div><div class=\"sk-serial\"><div class=\"sk-item\"><div class=\"sk-estimator sk-toggleable\"><input class=\"sk-toggleable__control sk-hidden--visually\" id=\"sk-estimator-id-6\" type=\"checkbox\" ><label for=\"sk-estimator-id-6\" class=\"sk-toggleable__label sk-toggleable__label-arrow\">GaussianNB</label><div class=\"sk-toggleable__content\"><pre>GaussianNB(var_smoothing=0.6)</pre></div></div></div></div></div></div></div></div></div></div>"
      ],
      "text/plain": [
       "BaggingClassifier(base_estimator=GaussianNB(var_smoothing=0.6), bootstrap=False,\n",
       "                  max_samples=0.6, n_estimators=101, random_state=2)"
      ]
     },
     "execution_count": 30,
     "metadata": {},
     "output_type": "execute_result"
    }
   ],
   "source": [
    "gbag_model = BaggingClassifier(\n",
    "    base_estimator = gnb,\n",
    "    bootstrap = False,\n",
    "    n_estimators = 101,\n",
    "    max_samples =0.6,\n",
    "    random_state = 2)\n",
    "\n",
    "gbag_model.fit(mm_train_X, enc2_train_y)\n"
   ]
  },
  {
   "cell_type": "code",
   "execution_count": 31,
   "id": "55daa94b",
   "metadata": {},
   "outputs": [
    {
     "name": "stdout",
     "output_type": "stream",
     "text": [
      "ComplementNB Accuracy:    0.8544600938967136\n",
      "GaussianNB Accuracy:    0.8427230046948356\n"
     ]
    }
   ],
   "source": [
    "# Get predictions\n",
    "cpred_y = cbag_model.predict(mm_test_X)\n",
    "gpred_y = gbag_model.predict(mm_test_X)\n",
    "\n",
    "cbag_accuracy = accuracy_score(enc2_test_y, cpred_y)\n",
    "gbag_accuracy = accuracy_score(enc2_test_y, gpred_y)\n",
    "\n",
    "print('ComplementNB Accuracy:   ', cbag_accuracy)\n",
    "print('GaussianNB Accuracy:   ', gbag_accuracy)\n",
    "      "
   ]
  },
  {
   "cell_type": "code",
   "execution_count": 32,
   "id": "3c9beef5",
   "metadata": {},
   "outputs": [],
   "source": [
    "# Create confusion matrix\n",
    "competent_cm = confusion_matrix(enc2_test_y, cpred_y)\n",
    "gaussian_cm = confusion_matrix(enc2_test_y, gpred_y)"
   ]
  },
  {
   "cell_type": "markdown",
   "id": "e246d2b2",
   "metadata": {},
   "source": [
    "#### Confusion matrix for Complement NB - using esemble bagging"
   ]
  },
  {
   "cell_type": "code",
   "execution_count": 33,
   "id": "931fe73b",
   "metadata": {},
   "outputs": [
    {
     "data": {
      "image/png": "[encoded data removed]",
      "text/plain": [
       "<Figure size 432x288 with 2 Axes>"
      ]
     },
     "metadata": {
      "needs_background": "light"
     },
     "output_type": "display_data"
    }
   ],
   "source": [
    "# use display matrix function to heatmap prediction/true cases\n",
    "disp = ConfusionMatrixDisplay(confusion_matrix=competent_cm)\n",
    "disp.plot()\n",
    "\n",
    "plt.show()"
   ]
  },
  {
   "cell_type": "markdown",
   "id": "bfb15a6d",
   "metadata": {},
   "source": [
    "#### Confusion matrix for Guassian NB - using esemble bagging"
   ]
  },
  {
   "cell_type": "code",
   "execution_count": 34,
   "id": "eb9019ca",
   "metadata": {},
   "outputs": [
    {
     "data": {
      "image/png": "[encoded data removed]",
      "text/plain": [
       "<Figure size 432x288 with 2 Axes>"
      ]
     },
     "metadata": {
      "needs_background": "light"
     },
     "output_type": "display_data"
    }
   ],
   "source": [
    "# use display matrix function to heatmap prediction/true cases\n",
    "disp = ConfusionMatrixDisplay(confusion_matrix=gaussian_cm)\n",
    "disp.plot()\n",
    "\n",
    "plt.show()"
   ]
  },
  {
   "cell_type": "markdown",
   "id": "8cb8583d",
   "metadata": {},
   "source": [
    "### Running naive bayes model without bagging"
   ]
  },
  {
   "cell_type": "code",
   "execution_count": 35,
   "id": "3ddab64f",
   "metadata": {},
   "outputs": [
    {
     "data": {
      "text/html": [
       "<style>#sk-container-id-3 {color: black;background-color: white;}#sk-container-id-3 pre{padding: 0;}#sk-container-id-3 div.sk-toggleable {background-color: white;}#sk-container-id-3 label.sk-toggleable__label {cursor: pointer;display: block;width: 100%;margin-bottom: 0;padding: 0.3em;box-sizing: border-box;text-align: center;}#sk-container-id-3 label.sk-toggleable__label-arrow:before {content: \"▸\";float: left;margin-right: 0.25em;color: #696969;}#sk-container-id-3 label.sk-toggleable__label-arrow:hover:before {color: black;}#sk-container-id-3 div.sk-estimator:hover label.sk-toggleable__label-arrow:before {color: black;}#sk-container-id-3 div.sk-toggleable__content {max-height: 0;max-width: 0;overflow: hidden;text-align: left;background-color: #f0f8ff;}#sk-container-id-3 div.sk-toggleable__content pre {margin: 0.2em;color: black;border-radius: 0.25em;background-color: #f0f8ff;}#sk-container-id-3 input.sk-toggleable__control:checked~div.sk-toggleable__content {max-height: 200px;max-width: 100%;overflow: auto;}#sk-container-id-3 input.sk-toggleable__control:checked~label.sk-toggleable__label-arrow:before {content: \"▾\";}#sk-container-id-3 div.sk-estimator input.sk-toggleable__control:checked~label.sk-toggleable__label {background-color: #d4ebff;}#sk-container-id-3 div.sk-label input.sk-toggleable__control:checked~label.sk-toggleable__label {background-color: #d4ebff;}#sk-container-id-3 input.sk-hidden--visually {border: 0;clip: rect(1px 1px 1px 1px);clip: rect(1px, 1px, 1px, 1px);height: 1px;margin: -1px;overflow: hidden;padding: 0;position: absolute;width: 1px;}#sk-container-id-3 div.sk-estimator {font-family: monospace;background-color: #f0f8ff;border: 1px dotted black;border-radius: 0.25em;box-sizing: border-box;margin-bottom: 0.5em;}#sk-container-id-3 div.sk-estimator:hover {background-color: #d4ebff;}#sk-container-id-3 div.sk-parallel-item::after {content: \"\";width: 100%;border-bottom: 1px solid gray;flex-grow: 1;}#sk-container-id-3 div.sk-label:hover label.sk-toggleable__label {background-color: #d4ebff;}#sk-container-id-3 div.sk-serial::before {content: \"\";position: absolute;border-left: 1px solid gray;box-sizing: border-box;top: 0;bottom: 0;left: 50%;z-index: 0;}#sk-container-id-3 div.sk-serial {display: flex;flex-direction: column;align-items: center;background-color: white;padding-right: 0.2em;padding-left: 0.2em;position: relative;}#sk-container-id-3 div.sk-item {position: relative;z-index: 1;}#sk-container-id-3 div.sk-parallel {display: flex;align-items: stretch;justify-content: center;background-color: white;position: relative;}#sk-container-id-3 div.sk-item::before, #sk-container-id-3 div.sk-parallel-item::before {content: \"\";position: absolute;border-left: 1px solid gray;box-sizing: border-box;top: 0;bottom: 0;left: 50%;z-index: -1;}#sk-container-id-3 div.sk-parallel-item {display: flex;flex-direction: column;z-index: 1;position: relative;background-color: white;}#sk-container-id-3 div.sk-parallel-item:first-child::after {align-self: flex-end;width: 50%;}#sk-container-id-3 div.sk-parallel-item:last-child::after {align-self: flex-start;width: 50%;}#sk-container-id-3 div.sk-parallel-item:only-child::after {width: 0;}#sk-container-id-3 div.sk-dashed-wrapped {border: 1px dashed gray;margin: 0 0.4em 0.5em 0.4em;box-sizing: border-box;padding-bottom: 0.4em;background-color: white;}#sk-container-id-3 div.sk-label label {font-family: monospace;font-weight: bold;display: inline-block;line-height: 1.2em;}#sk-container-id-3 div.sk-label-container {text-align: center;}#sk-container-id-3 div.sk-container {/* jupyter's `normalize.less` sets `[hidden] { display: none; }` but bootstrap.min.css set `[hidden] { display: none !important; }` so we also need the `!important` here to be able to override the default hidden behavior on the sphinx rendered scikit-learn.org. See: https://github.com/scikit-learn/scikit-learn/issues/21755 */display: inline-block !important;position: relative;}#sk-container-id-3 div.sk-text-repr-fallback {display: none;}</style><div id=\"sk-container-id-3\" class=\"sk-top-container\"><div class=\"sk-text-repr-fallback\"><pre>GaussianNB(var_smoothing=0.6)</pre><b>In a Jupyter environment, please rerun this cell to show the HTML representation or trust the notebook. <br />On GitHub, the HTML representation is unable to render, please try loading this page with nbviewer.org.</b></div><div class=\"sk-container\" hidden><div class=\"sk-item\"><div class=\"sk-estimator sk-toggleable\"><input class=\"sk-toggleable__control sk-hidden--visually\" id=\"sk-estimator-id-7\" type=\"checkbox\" checked><label for=\"sk-estimator-id-7\" class=\"sk-toggleable__label sk-toggleable__label-arrow\">GaussianNB</label><div class=\"sk-toggleable__content\"><pre>GaussianNB(var_smoothing=0.6)</pre></div></div></div></div></div>"
      ],
      "text/plain": [
       "GaussianNB(var_smoothing=0.6)"
      ]
     },
     "execution_count": 35,
     "metadata": {},
     "output_type": "execute_result"
    }
   ],
   "source": [
    "# Train model- same guassian model (same params)\n",
    "cnb.fit(mm_train_X, enc2_train_y)\n",
    "gnb.fit(mm_train_X, enc2_train_y)\n"
   ]
  },
  {
   "cell_type": "code",
   "execution_count": 36,
   "id": "72e4ad03",
   "metadata": {},
   "outputs": [],
   "source": [
    "# get predictions for both models\n",
    "cpred_y = cnb.predict(mm_test_X)\n",
    "gpred_y = gnb.predict(mm_test_X)"
   ]
  },
  {
   "cell_type": "code",
   "execution_count": 37,
   "id": "7e2d07f0",
   "metadata": {
    "scrolled": true
   },
   "outputs": [
    {
     "name": "stdout",
     "output_type": "stream",
     "text": [
      "Complement NB Accuracy:    0.8333333333333334\n",
      "Gaussian NB Accuracy:    0.8450704225352113\n"
     ]
    }
   ],
   "source": [
    "print(\"Complement NB Accuracy:   \",accuracy_score(enc2_test_y, cpred_y))\n",
    "print(\"Gaussian NB Accuracy:   \",accuracy_score(enc2_test_y, gpred_y))"
   ]
  },
  {
   "cell_type": "code",
   "execution_count": 38,
   "id": "87f5f63c",
   "metadata": {},
   "outputs": [],
   "source": [
    "# Create matrices for both model prediction results\n",
    "c_cm = confusion_matrix(enc2_test_y, cpred_y)\n",
    "g_cm = confusion_matrix(enc2_test_y, gpred_y)"
   ]
  },
  {
   "cell_type": "code",
   "execution_count": 39,
   "id": "450fcebb",
   "metadata": {},
   "outputs": [
    {
     "data": {
      "image/png": "[encoded data removed]",
      "text/plain": [
       "<Figure size 432x288 with 2 Axes>"
      ]
     },
     "metadata": {
      "needs_background": "light"
     },
     "output_type": "display_data"
    }
   ],
   "source": [
    "# Complemet CM Results\n",
    "#use display matrix function to heatmap prediction/true cases\n",
    "disp = ConfusionMatrixDisplay(confusion_matrix=c_cm)\n",
    "disp.plot()\n",
    "\n",
    "plt.show()"
   ]
  },
  {
   "cell_type": "code",
   "execution_count": 40,
   "id": "f659e830",
   "metadata": {},
   "outputs": [
    {
     "data": {
      "image/png": "[encoded data removed]",
      "text/plain": [
       "<Figure size 432x288 with 2 Axes>"
      ]
     },
     "metadata": {
      "needs_background": "light"
     },
     "output_type": "display_data"
    }
   ],
   "source": [
    "# Guassian CM Results\n",
    "# use display matrix function to heatmap prediction/true cases\n",
    "disp = ConfusionMatrixDisplay(confusion_matrix=g_cm)\n",
    "disp.plot()\n",
    "\n",
    "plt.show()"
   ]
  }
 ],
 "metadata": {
  "kernelspec": {
   "display_name": "Python 3",
   "language": "python",
   "name": "python3"
  },
  "language_info": {
   "codemirror_mode": {
    "name": "ipython",
    "version": 3
   },
   "file_extension": ".py",
   "mimetype": "text/x-python",
   "name": "python",
   "nbconvert_exporter": "python",
   "pygments_lexer": "ipython3",
   "version": "3.8.8"
  }
 },
 "nbformat": 4,
 "nbformat_minor": 5
}
