{
 "cells": [
  {
   "cell_type": "markdown",
   "id": "933db124",
   "metadata": {},
   "source": [
    "# Modeling Code for 'Predicting Fetal Heart Health with Machine Learning'\n",
    "\n",
    "***Holly Figueroa  \n",
    "Karlie Schwartzwald  \n",
    "DSC 630 Winter 2022  \n",
    "Bellevue University***"
   ]
  },
  {
   "cell_type": "code",
   "execution_count": 1,
   "id": "9e437f3d",
   "metadata": {},
   "outputs": [],
   "source": [
    "# Import Libraries\n",
    "import pandas as pd\n",
    "import numpy as np\n",
    "import matplotlib.pyplot as plt\n",
    "from sklearn.model_selection import train_test_split\n",
    "from sklearn.naive_bayes import ComplementNB\n",
    "from sklearn.metrics import accuracy_score, classification_report\n",
    "from sklearn.model_selection import GridSearchCV\n",
    "from sklearn.pipeline import make_pipeline\n",
    "from sklearn.model_selection import cross_validate\n",
    "\n",
    "\n",
    "\n",
    "from imblearn.over_sampling import RandomOverSampler\n",
    "from sklearn.pipeline import Pipeline, FeatureUnion\n",
    "from sklearn import preprocessing\n",
    "from sklearn.model_selection import GridSearchCV\n",
    "from sklearn.preprocessing import MinMaxScaler, StandardScaler, RobustScaler\n",
    "from sklearn.neural_network import MLPClassifier\n",
    "from sklearn.metrics import confusion_matrix, ConfusionMatrixDisplay"
   ]
  },
  {
   "cell_type": "code",
   "execution_count": 2,
   "id": "ce918434",
   "metadata": {},
   "outputs": [],
   "source": [
    "#    Title: get_tpr_fnr_fpr_tnr()\n",
    "#    Author: Md Abdul Bari\n",
    "#    Date: Oct 22, 2020\n",
    "#    Availability: https://stackoverflow.com/questions/45053238/how-to-get-all-confusion-matrix-terminologies-tpr-fpr-tnr-fnr-for-a-multi-c.\n",
    "     \n",
    "def get_tpr_fnr_fpr_tnr(cm):\n",
    "    \"\"\"\n",
    "    This function returns class-wise TPR, FNR, FPR & TNR\n",
    "    [[cm]]: a 2-D array of a multiclass confusion matrix\n",
    "            where horizontal axes represent actual classes\n",
    "            and vertical axes represent predicted classes\n",
    "    {output}: a dictionary of class-wise accuracy parameters\n",
    "    \"\"\"\n",
    "    dict_metric = dict()\n",
    "    n = len(cm[0])\n",
    "    row_sums = cm.sum(axis=1)\n",
    "    col_sums = cm.sum(axis=0)\n",
    "    array_sum = sum(sum(cm))\n",
    "    #initialize a blank nested dictionary\n",
    "    for i in range(1, n+1):\n",
    "        keys = str(i)\n",
    "        dict_metric[keys] = {\"TPR\":0, \"FNR\":0, \"FPR\":0, \"TNR\":0}\n",
    "    # calculate and store class-wise TPR, FNR, FPR, TNR\n",
    "    for i in range(n):\n",
    "        for j in range(n):\n",
    "            if i == j:\n",
    "                keys = str(i+1)\n",
    "                tp = cm[i, j]\n",
    "                fn = row_sums[i] - cm[i, j]\n",
    "                dict_metric[keys][\"TPR\"] = tp / (tp + fn)\n",
    "                dict_metric[keys][\"FNR\"] = fn / (tp + fn)\n",
    "                fp = col_sums[i] - cm[i, j]\n",
    "                tn = array_sum - tp - fn - fp\n",
    "                dict_metric[keys][\"FPR\"] = fp / (fp + tn)\n",
    "                dict_metric[keys][\"TNR\"] = tn / (fp + tn)\n",
    "    return dict_metric\n"
   ]
  },
  {
   "cell_type": "code",
   "execution_count": 3,
   "id": "abfb4456",
   "metadata": {},
   "outputs": [
    {
     "data": {
      "text/html": [
       "<div>\n",
       "<style scoped>\n",
       "    .dataframe tbody tr th:only-of-type {\n",
       "        vertical-align: middle;\n",
       "    }\n",
       "\n",
       "    .dataframe tbody tr th {\n",
       "        vertical-align: top;\n",
       "    }\n",
       "\n",
       "    .dataframe thead th {\n",
       "        text-align: right;\n",
       "    }\n",
       "</style>\n",
       "<table border=\"1\" class=\"dataframe\">\n",
       "  <thead>\n",
       "    <tr style=\"text-align: right;\">\n",
       "      <th></th>\n",
       "      <th>baseline value</th>\n",
       "      <th>accelerations</th>\n",
       "      <th>fetal_movement</th>\n",
       "      <th>uterine_contractions</th>\n",
       "      <th>light_decelerations</th>\n",
       "      <th>severe_decelerations</th>\n",
       "      <th>prolongued_decelerations</th>\n",
       "      <th>abnormal_short_term_variability</th>\n",
       "      <th>mean_value_of_short_term_variability</th>\n",
       "      <th>percentage_of_time_with_abnormal_long_term_variability</th>\n",
       "      <th>...</th>\n",
       "      <th>histogram_min</th>\n",
       "      <th>histogram_max</th>\n",
       "      <th>histogram_number_of_peaks</th>\n",
       "      <th>histogram_number_of_zeroes</th>\n",
       "      <th>histogram_mode</th>\n",
       "      <th>histogram_mean</th>\n",
       "      <th>histogram_median</th>\n",
       "      <th>histogram_variance</th>\n",
       "      <th>histogram_tendency</th>\n",
       "      <th>fetal_health</th>\n",
       "    </tr>\n",
       "  </thead>\n",
       "  <tbody>\n",
       "    <tr>\n",
       "      <th>0</th>\n",
       "      <td>120.0</td>\n",
       "      <td>0.000</td>\n",
       "      <td>0.0</td>\n",
       "      <td>0.000</td>\n",
       "      <td>0.000</td>\n",
       "      <td>0.0</td>\n",
       "      <td>0.0</td>\n",
       "      <td>73.0</td>\n",
       "      <td>0.5</td>\n",
       "      <td>43.0</td>\n",
       "      <td>...</td>\n",
       "      <td>62.0</td>\n",
       "      <td>126.0</td>\n",
       "      <td>2.0</td>\n",
       "      <td>0.0</td>\n",
       "      <td>120.0</td>\n",
       "      <td>137.0</td>\n",
       "      <td>121.0</td>\n",
       "      <td>73.0</td>\n",
       "      <td>1.0</td>\n",
       "      <td>2.0</td>\n",
       "    </tr>\n",
       "    <tr>\n",
       "      <th>1</th>\n",
       "      <td>132.0</td>\n",
       "      <td>0.006</td>\n",
       "      <td>0.0</td>\n",
       "      <td>0.006</td>\n",
       "      <td>0.003</td>\n",
       "      <td>0.0</td>\n",
       "      <td>0.0</td>\n",
       "      <td>17.0</td>\n",
       "      <td>2.1</td>\n",
       "      <td>0.0</td>\n",
       "      <td>...</td>\n",
       "      <td>68.0</td>\n",
       "      <td>198.0</td>\n",
       "      <td>6.0</td>\n",
       "      <td>1.0</td>\n",
       "      <td>141.0</td>\n",
       "      <td>136.0</td>\n",
       "      <td>140.0</td>\n",
       "      <td>12.0</td>\n",
       "      <td>0.0</td>\n",
       "      <td>1.0</td>\n",
       "    </tr>\n",
       "    <tr>\n",
       "      <th>2</th>\n",
       "      <td>133.0</td>\n",
       "      <td>0.003</td>\n",
       "      <td>0.0</td>\n",
       "      <td>0.008</td>\n",
       "      <td>0.003</td>\n",
       "      <td>0.0</td>\n",
       "      <td>0.0</td>\n",
       "      <td>16.0</td>\n",
       "      <td>2.1</td>\n",
       "      <td>0.0</td>\n",
       "      <td>...</td>\n",
       "      <td>68.0</td>\n",
       "      <td>198.0</td>\n",
       "      <td>5.0</td>\n",
       "      <td>1.0</td>\n",
       "      <td>141.0</td>\n",
       "      <td>135.0</td>\n",
       "      <td>138.0</td>\n",
       "      <td>13.0</td>\n",
       "      <td>0.0</td>\n",
       "      <td>1.0</td>\n",
       "    </tr>\n",
       "    <tr>\n",
       "      <th>3</th>\n",
       "      <td>134.0</td>\n",
       "      <td>0.003</td>\n",
       "      <td>0.0</td>\n",
       "      <td>0.008</td>\n",
       "      <td>0.003</td>\n",
       "      <td>0.0</td>\n",
       "      <td>0.0</td>\n",
       "      <td>16.0</td>\n",
       "      <td>2.4</td>\n",
       "      <td>0.0</td>\n",
       "      <td>...</td>\n",
       "      <td>53.0</td>\n",
       "      <td>170.0</td>\n",
       "      <td>11.0</td>\n",
       "      <td>0.0</td>\n",
       "      <td>137.0</td>\n",
       "      <td>134.0</td>\n",
       "      <td>137.0</td>\n",
       "      <td>13.0</td>\n",
       "      <td>1.0</td>\n",
       "      <td>1.0</td>\n",
       "    </tr>\n",
       "    <tr>\n",
       "      <th>4</th>\n",
       "      <td>132.0</td>\n",
       "      <td>0.007</td>\n",
       "      <td>0.0</td>\n",
       "      <td>0.008</td>\n",
       "      <td>0.000</td>\n",
       "      <td>0.0</td>\n",
       "      <td>0.0</td>\n",
       "      <td>16.0</td>\n",
       "      <td>2.4</td>\n",
       "      <td>0.0</td>\n",
       "      <td>...</td>\n",
       "      <td>53.0</td>\n",
       "      <td>170.0</td>\n",
       "      <td>9.0</td>\n",
       "      <td>0.0</td>\n",
       "      <td>137.0</td>\n",
       "      <td>136.0</td>\n",
       "      <td>138.0</td>\n",
       "      <td>11.0</td>\n",
       "      <td>1.0</td>\n",
       "      <td>1.0</td>\n",
       "    </tr>\n",
       "  </tbody>\n",
       "</table>\n",
       "<p>5 rows × 22 columns</p>\n",
       "</div>"
      ],
      "text/plain": [
       "   baseline value  accelerations  fetal_movement  uterine_contractions  \\\n",
       "0           120.0          0.000             0.0                 0.000   \n",
       "1           132.0          0.006             0.0                 0.006   \n",
       "2           133.0          0.003             0.0                 0.008   \n",
       "3           134.0          0.003             0.0                 0.008   \n",
       "4           132.0          0.007             0.0                 0.008   \n",
       "\n",
       "   light_decelerations  severe_decelerations  prolongued_decelerations  \\\n",
       "0                0.000                   0.0                       0.0   \n",
       "1                0.003                   0.0                       0.0   \n",
       "2                0.003                   0.0                       0.0   \n",
       "3                0.003                   0.0                       0.0   \n",
       "4                0.000                   0.0                       0.0   \n",
       "\n",
       "   abnormal_short_term_variability  mean_value_of_short_term_variability  \\\n",
       "0                             73.0                                   0.5   \n",
       "1                             17.0                                   2.1   \n",
       "2                             16.0                                   2.1   \n",
       "3                             16.0                                   2.4   \n",
       "4                             16.0                                   2.4   \n",
       "\n",
       "   percentage_of_time_with_abnormal_long_term_variability  ...  histogram_min  \\\n",
       "0                                               43.0       ...           62.0   \n",
       "1                                                0.0       ...           68.0   \n",
       "2                                                0.0       ...           68.0   \n",
       "3                                                0.0       ...           53.0   \n",
       "4                                                0.0       ...           53.0   \n",
       "\n",
       "   histogram_max  histogram_number_of_peaks  histogram_number_of_zeroes  \\\n",
       "0          126.0                        2.0                         0.0   \n",
       "1          198.0                        6.0                         1.0   \n",
       "2          198.0                        5.0                         1.0   \n",
       "3          170.0                       11.0                         0.0   \n",
       "4          170.0                        9.0                         0.0   \n",
       "\n",
       "   histogram_mode  histogram_mean  histogram_median  histogram_variance  \\\n",
       "0           120.0           137.0             121.0                73.0   \n",
       "1           141.0           136.0             140.0                12.0   \n",
       "2           141.0           135.0             138.0                13.0   \n",
       "3           137.0           134.0             137.0                13.0   \n",
       "4           137.0           136.0             138.0                11.0   \n",
       "\n",
       "   histogram_tendency  fetal_health  \n",
       "0                 1.0           2.0  \n",
       "1                 0.0           1.0  \n",
       "2                 0.0           1.0  \n",
       "3                 1.0           1.0  \n",
       "4                 1.0           1.0  \n",
       "\n",
       "[5 rows x 22 columns]"
      ]
     },
     "execution_count": 3,
     "metadata": {},
     "output_type": "execute_result"
    }
   ],
   "source": [
    "# Load file\n",
    "df = pd.read_csv('fetal_health.csv')\n",
    "df.head()"
   ]
  },
  {
   "cell_type": "code",
   "execution_count": 4,
   "id": "73ca67f5",
   "metadata": {},
   "outputs": [],
   "source": [
    "# Drop highly correlated variables\n",
    "# 0.9 Threshold as described in Milestone 3\n",
    "\n",
    "# Histogram mode and median highly correlate with hisogram mean\n",
    "df.drop(['histogram_median', 'histogram_mode', ], axis=1, inplace=True)"
   ]
  },
  {
   "cell_type": "code",
   "execution_count": 5,
   "id": "f6a77aa8",
   "metadata": {},
   "outputs": [],
   "source": [
    "# seperate target feature\n",
    "X = df.drop(['fetal_health'], axis=1)\n",
    "y = df['fetal_health']"
   ]
  },
  {
   "cell_type": "code",
   "execution_count": 6,
   "id": "916efc64",
   "metadata": {},
   "outputs": [
    {
     "name": "stdout",
     "output_type": "stream",
     "text": [
      "(1700, 19) (1700,) (426, 19) (426,)\n"
     ]
    }
   ],
   "source": [
    "# train test split data using stratify to preserve the class ratios\n",
    "train_X, test_X, train_y, test_y = train_test_split(X,y, test_size = 0.2, stratify = y, random_state = 5)\n",
    "# Check shape\n",
    "print(train_X.shape, train_y.shape, test_X.shape, test_y.shape)"
   ]
  },
  {
   "cell_type": "markdown",
   "id": "d0601fe1",
   "metadata": {},
   "source": [
    "## Null Model for Comparison"
   ]
  },
  {
   "cell_type": "code",
   "execution_count": 7,
   "id": "15b338b5",
   "metadata": {},
   "outputs": [
    {
     "data": {
      "text/plain": [
       "1.0    332\n",
       "2.0     59\n",
       "3.0     35\n",
       "Name: fetal_health, dtype: int64"
      ]
     },
     "execution_count": 7,
     "metadata": {},
     "output_type": "execute_result"
    }
   ],
   "source": [
    "# check class distribution in test set\n",
    "test_y.value_counts()"
   ]
  },
  {
   "cell_type": "code",
   "execution_count": 8,
   "id": "dae79f29",
   "metadata": {},
   "outputs": [
    {
     "name": "stdout",
     "output_type": "stream",
     "text": [
      "Null accuracy score: 0.7790\n"
     ]
    }
   ],
   "source": [
    "# check null accuracy score\n",
    "null_accuracy = (497/(497+94+47))\n",
    "print('Null accuracy score: {0:0.4f}'. format(null_accuracy))"
   ]
  },
  {
   "cell_type": "code",
   "execution_count": 9,
   "id": "85ac1656",
   "metadata": {},
   "outputs": [],
   "source": [
    "# So we need to score above 78% to be a good model"
   ]
  },
  {
   "cell_type": "markdown",
   "id": "33e0e36f",
   "metadata": {},
   "source": [
    "## Complement Naive Bayes"
   ]
  },
  {
   "cell_type": "markdown",
   "id": "dfa3b2db",
   "metadata": {},
   "source": [
    "### Preparation"
   ]
  },
  {
   "cell_type": "code",
   "execution_count": 10,
   "id": "46775319",
   "metadata": {},
   "outputs": [],
   "source": [
    "# Scaling\n",
    "scaler = MinMaxScaler()\n",
    "# I had to use this particular scalar because of negative numbers error\n",
    "x_train = scaler.fit_transform(train_X)\n",
    "x_test = scaler.transform(test_X)"
   ]
  },
  {
   "cell_type": "markdown",
   "id": "4f9c1145",
   "metadata": {},
   "source": [
    "### Hyperparameter Tuning for Model Training"
   ]
  },
  {
   "cell_type": "code",
   "execution_count": 11,
   "id": "870d3454",
   "metadata": {},
   "outputs": [],
   "source": [
    "# gridsearch values\n",
    "grid_vals = {\"alpha\": [0.1, 0.2, 0.3, 0.4, 0.5, 0.6, 0.7, 0.8, 0.9, \n",
    "                       1, 2, 3, 4, 5, 6, 7, 8, 9, \n",
    "                      10, 11, 12, 13, 14, 15, 16, 17, 18, 19,\n",
    "                      20, 21, 22, 23, 24, 25, 26, 27, 28, 29,\n",
    "                      30, 31, 32, 33, 34, 35, 36, 37, 38, 39,\n",
    "                      40, 41, 42, 43, 44, 45, 46, 47, 48, 49,\n",
    "                      50, 51, 52, 53, 54, 55, 56, 57, 48, 59,\n",
    "                      60, 61, 62, 63, 64, 65, 66, 67, 68, 69,\n",
    "                      70, 71, 72, 73, 74, 75, 76, 77, 78, 79,\n",
    "                      80, 81, 82, 83, 84, 85, 86, 87, 88, 89,\n",
    "                      90, 91, 92, 93, 94, 95, 96, 97, 98, 99, 100]}"
   ]
  },
  {
   "cell_type": "code",
   "execution_count": 12,
   "id": "2ef181c6",
   "metadata": {},
   "outputs": [],
   "source": [
    "# gridsearch model\n",
    "grid_lr = GridSearchCV(estimator=ComplementNB(), param_grid=grid_vals, scoring='accuracy', \n",
    "                       cv=6, refit=True, return_train_score=True) "
   ]
  },
  {
   "cell_type": "code",
   "execution_count": 13,
   "id": "30f7edc5",
   "metadata": {},
   "outputs": [],
   "source": [
    "#Training and Prediction\n",
    "tuned_classifier = grid_lr.fit(x_train, train_y)\n",
    "tuned_preds = grid_lr.best_estimator_.predict(x_test)"
   ]
  },
  {
   "cell_type": "code",
   "execution_count": 14,
   "id": "b8c8c881",
   "metadata": {},
   "outputs": [
    {
     "name": "stdout",
     "output_type": "stream",
     "text": [
      "Tuned Gaussian NB Parameter: {'alpha': 42}\n"
     ]
    }
   ],
   "source": [
    "# Print the tuned parameters and score\n",
    "print(\"Tuned Gaussian NB Parameter: {}\".format(grid_lr.best_params_))"
   ]
  },
  {
   "cell_type": "markdown",
   "id": "2fa17711",
   "metadata": {},
   "source": [
    "### Evaluation"
   ]
  },
  {
   "cell_type": "code",
   "execution_count": 15,
   "id": "9fb27b37",
   "metadata": {},
   "outputs": [],
   "source": [
    "# cross validate\n",
    "scores3 = cross_validate(tuned_classifier, x_train, train_y, return_train_score=True)\n",
    "scores_df3 = pd.DataFrame(scores3)"
   ]
  },
  {
   "cell_type": "code",
   "execution_count": 16,
   "id": "e7af2324",
   "metadata": {},
   "outputs": [
    {
     "data": {
      "text/plain": [
       "fit_time       1.854373\n",
       "score_time     0.001412\n",
       "test_score     0.840588\n",
       "train_score    0.839559\n",
       "dtype: float64"
      ]
     },
     "execution_count": 16,
     "metadata": {},
     "output_type": "execute_result"
    }
   ],
   "source": [
    "scores_df3.mean()\n",
    "# Looks like we could be over fitting but the model is performing better than null"
   ]
  },
  {
   "cell_type": "code",
   "execution_count": 17,
   "id": "b3ca5d73",
   "metadata": {
    "scrolled": true
   },
   "outputs": [
    {
     "data": {
      "image/png": "[encoded data removed]",
      "text/plain": [
       "<Figure size 432x288 with 2 Axes>"
      ]
     },
     "metadata": {
      "needs_background": "light"
     },
     "output_type": "display_data"
    }
   ],
   "source": [
    "# use display matrix function to heatmap prediction/true cases\n",
    "cm = confusion_matrix(test_y, tuned_preds)\n",
    "disp = ConfusionMatrixDisplay(cm)\n",
    "disp.plot()\n",
    "\n",
    "plt.show()"
   ]
  },
  {
   "cell_type": "code",
   "execution_count": 18,
   "id": "3ab8ebe3",
   "metadata": {},
   "outputs": [
    {
     "data": {
      "text/html": [
       "<div>\n",
       "<style scoped>\n",
       "    .dataframe tbody tr th:only-of-type {\n",
       "        vertical-align: middle;\n",
       "    }\n",
       "\n",
       "    .dataframe tbody tr th {\n",
       "        vertical-align: top;\n",
       "    }\n",
       "\n",
       "    .dataframe thead th {\n",
       "        text-align: right;\n",
       "    }\n",
       "</style>\n",
       "<table border=\"1\" class=\"dataframe\">\n",
       "  <thead>\n",
       "    <tr style=\"text-align: right;\">\n",
       "      <th></th>\n",
       "      <th>TPR</th>\n",
       "      <th>FNR</th>\n",
       "      <th>FPR</th>\n",
       "      <th>TNR</th>\n",
       "    </tr>\n",
       "  </thead>\n",
       "  <tbody>\n",
       "    <tr>\n",
       "      <th>1</th>\n",
       "      <td>0.915663</td>\n",
       "      <td>0.084337</td>\n",
       "      <td>0.244681</td>\n",
       "      <td>0.755319</td>\n",
       "    </tr>\n",
       "    <tr>\n",
       "      <th>2</th>\n",
       "      <td>0.644068</td>\n",
       "      <td>0.355932</td>\n",
       "      <td>0.103542</td>\n",
       "      <td>0.896458</td>\n",
       "    </tr>\n",
       "    <tr>\n",
       "      <th>3</th>\n",
       "      <td>0.485714</td>\n",
       "      <td>0.514286</td>\n",
       "      <td>0.015345</td>\n",
       "      <td>0.984655</td>\n",
       "    </tr>\n",
       "  </tbody>\n",
       "</table>\n",
       "</div>"
      ],
      "text/plain": [
       "        TPR       FNR       FPR       TNR\n",
       "1  0.915663  0.084337  0.244681  0.755319\n",
       "2  0.644068  0.355932  0.103542  0.896458\n",
       "3  0.485714  0.514286  0.015345  0.984655"
      ]
     },
     "execution_count": 18,
     "metadata": {},
     "output_type": "execute_result"
    }
   ],
   "source": [
    "# Print the Confusion Matrix\n",
    "\n",
    "conf_mat = pd.DataFrame(get_tpr_fnr_fpr_tnr(cm)).transpose()\n",
    "conf_mat"
   ]
  },
  {
   "cell_type": "markdown",
   "id": "3a245d38",
   "metadata": {},
   "source": [
    "## MLP Classifier"
   ]
  },
  {
   "cell_type": "markdown",
   "id": "723105c0",
   "metadata": {},
   "source": [
    "### Preprocessing"
   ]
  },
  {
   "cell_type": "code",
   "execution_count": 19,
   "id": "a79b32ff",
   "metadata": {},
   "outputs": [],
   "source": [
    "# Random Oversampling\n",
    "over_sampler = RandomOverSampler(sampling_strategy = 'auto', random_state = 0)\n",
    "ros_X, ros_y = over_sampler.fit_resample(train_X,train_y)"
   ]
  },
  {
   "cell_type": "code",
   "execution_count": 20,
   "id": "7fe5fd68",
   "metadata": {},
   "outputs": [
    {
     "data": {
      "text/plain": [
       "1.0    1323\n",
       "2.0     236\n",
       "3.0     141\n",
       "Name: fetal_health, dtype: int64"
      ]
     },
     "execution_count": 20,
     "metadata": {},
     "output_type": "execute_result"
    }
   ],
   "source": [
    "train_y.value_counts()"
   ]
  },
  {
   "cell_type": "code",
   "execution_count": 21,
   "id": "b32ede4c",
   "metadata": {},
   "outputs": [
    {
     "data": {
      "text/plain": [
       "2.0    1323\n",
       "1.0    1323\n",
       "3.0    1323\n",
       "Name: fetal_health, dtype: int64"
      ]
     },
     "execution_count": 21,
     "metadata": {},
     "output_type": "execute_result"
    }
   ],
   "source": [
    "# Check counts/oversampling results\n",
    "ros_y.value_counts()"
   ]
  },
  {
   "cell_type": "code",
   "execution_count": 22,
   "id": "2592b90b",
   "metadata": {},
   "outputs": [],
   "source": [
    "# Encode classes so they are 0-2 instead of 1-3\n",
    "# Now training y and test_y will be label encoded and oversampled\n",
    "enc = preprocessing.LabelEncoder()\n",
    "ros_y = enc.fit_transform(ros_y)\n",
    "test_y2 = enc.transform(test_y)"
   ]
  },
  {
   "cell_type": "code",
   "execution_count": 23,
   "id": "51d536b8",
   "metadata": {},
   "outputs": [],
   "source": [
    "# Create scaler\n",
    "scaler = StandardScaler()\n",
    "# Create Model Instance for gridsearching parameters\n",
    "mlp = MLPClassifier()\n",
    "# Create pipeline\n",
    "pipe = Pipeline(steps=[('scaler', scaler ), ('mlpc', mlp)])"
   ]
  },
  {
   "cell_type": "markdown",
   "id": "f7dd444d",
   "metadata": {},
   "source": [
    "### Hyperparameter Tuning"
   ]
  },
  {
   "cell_type": "code",
   "execution_count": 24,
   "id": "04159a60",
   "metadata": {},
   "outputs": [],
   "source": [
    "#mlp.get_params()"
   ]
  },
  {
   "cell_type": "code",
   "execution_count": 25,
   "id": "6005dbf5",
   "metadata": {},
   "outputs": [],
   "source": [
    "# # Define gridspace\n",
    "# param_grid= [{'mlpc__activation': ['relu','tanh'],\n",
    "#              'mlpc__alpha': [0.0025, 0.05, 0.5 ],\n",
    "#              'mlpc__hidden_layer_sizes': [(12,6)],\n",
    "#              'mlpc__max_iter': [2000],\n",
    "#              'mlpc__solver': ['adam','lbfgs'],\n",
    "#              'mlpc__batch_size': [20,30,50],\n",
    "#              'mlpc__learning_rate':['invscaling','adaptive']\n",
    "#              }]"
   ]
  },
  {
   "cell_type": "code",
   "execution_count": 26,
   "id": "fc3c1e71",
   "metadata": {},
   "outputs": [],
   "source": [
    "# # Run a new gridsearch with new search_space\n",
    "# grid_mlp = GridSearchCV(pipe, param_grid, n_jobs= -1, cv = 2, verbose = 0)"
   ]
  },
  {
   "cell_type": "code",
   "execution_count": 27,
   "id": "5312400c",
   "metadata": {},
   "outputs": [],
   "source": [
    "# # Fit grid search\n",
    "# grid_mlp.fit(ros_X,ros_y)"
   ]
  },
  {
   "cell_type": "code",
   "execution_count": 28,
   "id": "a0951078",
   "metadata": {},
   "outputs": [],
   "source": [
    "# grid_mlp.best_params_"
   ]
  },
  {
   "cell_type": "code",
   "execution_count": 29,
   "id": "011bd930",
   "metadata": {},
   "outputs": [],
   "source": [
    "# print('Best score: ', grid_mlp.best_score_)\n",
    "# print('Test Accuracy: ', grid_mlp.score(test_X, test_y))"
   ]
  },
  {
   "cell_type": "code",
   "execution_count": 30,
   "id": "9d8ed322",
   "metadata": {},
   "outputs": [],
   "source": [
    "# Create MLP model with chosen params\n",
    "best_mlp = MLPClassifier(\n",
    "                        activation= 'tanh', \n",
    "                        alpha = 0.001, \n",
    "                        hidden_layer_sizes = (12,6), \n",
    "                        max_iter = 2000, \n",
    "                        solver = 'lbfgs',\n",
    "                        random_state = 12,\n",
    "                        learning_rate = 'adaptive'\n",
    "                        )"
   ]
  },
  {
   "cell_type": "code",
   "execution_count": 31,
   "id": "938ae49f",
   "metadata": {},
   "outputs": [],
   "source": [
    "# Update pipeline\n",
    "pipe = Pipeline(steps=[('scaler', scaler ), ('mlpc', best_mlp)])\n",
    "\n",
    "# Fit to features\n",
    "pipe.fit(ros_X, ros_y)\n",
    "\n",
    "# Get predictions\n",
    "pred_y = pipe.predict(test_X)"
   ]
  },
  {
   "cell_type": "markdown",
   "id": "5db3f628",
   "metadata": {},
   "source": [
    "### Evaluation"
   ]
  },
  {
   "cell_type": "code",
   "execution_count": 32,
   "id": "fc196a58",
   "metadata": {},
   "outputs": [],
   "source": [
    "# Test model accuracy\n",
    "# cross validate\n",
    "mlp_scores = cross_validate(pipe, ros_X, ros_y, return_train_score=True)\n",
    "mlp_scores_df = pd.DataFrame(mlp_scores)"
   ]
  },
  {
   "cell_type": "code",
   "execution_count": 33,
   "id": "3bcf13e0",
   "metadata": {},
   "outputs": [
    {
     "data": {
      "text/plain": [
       "fit_time       3.068092\n",
       "score_time     0.004839\n",
       "test_score     0.980096\n",
       "train_score    0.995339\n",
       "dtype: float64"
      ]
     },
     "execution_count": 33,
     "metadata": {},
     "output_type": "execute_result"
    }
   ],
   "source": [
    "mlp_scores_df.mean()"
   ]
  },
  {
   "cell_type": "code",
   "execution_count": 34,
   "id": "162bef1c",
   "metadata": {},
   "outputs": [
    {
     "data": {
      "text/plain": [
       "0.9107981220657277"
      ]
     },
     "execution_count": 34,
     "metadata": {},
     "output_type": "execute_result"
    }
   ],
   "source": [
    "# Get accuracy of predictions\n",
    "accuracy_score(test_y2, pred_y)"
   ]
  },
  {
   "cell_type": "code",
   "execution_count": 35,
   "id": "bbf60cad",
   "metadata": {},
   "outputs": [],
   "source": [
    "# Create confusion matrix\n",
    "cm = confusion_matrix(test_y2, pred_y)"
   ]
  },
  {
   "cell_type": "code",
   "execution_count": 36,
   "id": "afa6d9f6",
   "metadata": {},
   "outputs": [
    {
     "data": {
      "image/png": "[encoded data removed]",
      "text/plain": [
       "<Figure size 432x288 with 2 Axes>"
      ]
     },
     "metadata": {
      "needs_background": "light"
     },
     "output_type": "display_data"
    }
   ],
   "source": [
    "# use display matrix function to heatmap prediction/true cases\n",
    "disp = ConfusionMatrixDisplay(confusion_matrix=cm)\n",
    "disp.plot()\n",
    "\n",
    "plt.show()"
   ]
  },
  {
   "cell_type": "code",
   "execution_count": 37,
   "id": "7d1fd0be",
   "metadata": {},
   "outputs": [
    {
     "data": {
      "text/html": [
       "<div>\n",
       "<style scoped>\n",
       "    .dataframe tbody tr th:only-of-type {\n",
       "        vertical-align: middle;\n",
       "    }\n",
       "\n",
       "    .dataframe tbody tr th {\n",
       "        vertical-align: top;\n",
       "    }\n",
       "\n",
       "    .dataframe thead th {\n",
       "        text-align: right;\n",
       "    }\n",
       "</style>\n",
       "<table border=\"1\" class=\"dataframe\">\n",
       "  <thead>\n",
       "    <tr style=\"text-align: right;\">\n",
       "      <th></th>\n",
       "      <th>TPR</th>\n",
       "      <th>FNR</th>\n",
       "      <th>FPR</th>\n",
       "      <th>TNR</th>\n",
       "    </tr>\n",
       "  </thead>\n",
       "  <tbody>\n",
       "    <tr>\n",
       "      <th>1</th>\n",
       "      <td>0.954819</td>\n",
       "      <td>0.045181</td>\n",
       "      <td>0.159574</td>\n",
       "      <td>0.840426</td>\n",
       "    </tr>\n",
       "    <tr>\n",
       "      <th>2</th>\n",
       "      <td>0.745763</td>\n",
       "      <td>0.254237</td>\n",
       "      <td>0.049046</td>\n",
       "      <td>0.950954</td>\n",
       "    </tr>\n",
       "    <tr>\n",
       "      <th>3</th>\n",
       "      <td>0.771429</td>\n",
       "      <td>0.228571</td>\n",
       "      <td>0.012788</td>\n",
       "      <td>0.987212</td>\n",
       "    </tr>\n",
       "  </tbody>\n",
       "</table>\n",
       "</div>"
      ],
      "text/plain": [
       "        TPR       FNR       FPR       TNR\n",
       "1  0.954819  0.045181  0.159574  0.840426\n",
       "2  0.745763  0.254237  0.049046  0.950954\n",
       "3  0.771429  0.228571  0.012788  0.987212"
      ]
     },
     "execution_count": 37,
     "metadata": {},
     "output_type": "execute_result"
    }
   ],
   "source": [
    "rates_df = pd.DataFrame(get_tpr_fnr_fpr_tnr(cm)).transpose()\n",
    "rates_df"
   ]
  }
 ],
 "metadata": {
  "kernelspec": {
   "display_name": "Python 3",
   "language": "python",
   "name": "python3"
  },
  "language_info": {
   "codemirror_mode": {
    "name": "ipython",
    "version": 3
   },
   "file_extension": ".py",
   "mimetype": "text/x-python",
   "name": "python",
   "nbconvert_exporter": "python",
   "pygments_lexer": "ipython3",
   "version": "3.8.8"
  }
 },
 "nbformat": 4,
 "nbformat_minor": 5
}
