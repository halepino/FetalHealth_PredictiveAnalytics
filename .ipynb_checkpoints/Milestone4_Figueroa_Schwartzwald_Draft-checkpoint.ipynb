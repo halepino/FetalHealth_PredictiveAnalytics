{
 "cells": [
  {
   "cell_type": "markdown",
   "id": "933db124",
   "metadata": {},
   "source": [
    "# A Machine Learning Approach to Cardiotocography Interpretation \n",
    "## Milestone 4: Finalizing Your Results\n",
    "\n",
    "***Holly Figueroa  \n",
    "Karlie Schwartzwald  \n",
    "DSC 630 Winter 2022  \n",
    "Bellevue University***"
   ]
  },
  {
   "cell_type": "markdown",
   "id": "de743c6e",
   "metadata": {},
   "source": [
    "### Milestone 2: Preliminary Analysis"
   ]
  },
  {
   "cell_type": "markdown",
   "id": "6038b127",
   "metadata": {},
   "source": [
    "***A Machine Learning Approach to Cardiotocography Interpretation*** \n",
    "\n",
    "Despite modern advances, childbirth remains a risky medical endeavor both for birthing people and the unborn. There exists no replacement for the expertise and direct involvement of a medical professional to manage care. Analytics, however, can offer significant aid in ways it could not before through advanced modeling. Cardiotocography (CTG) is widely used over the course of pregnancy and during labor (Fetal Heart Monitoring, 2019). CTG allows monitoring of fetal heart rate and uterine contractions to prevent fetal hypoxia, or oxygen loss in body tissues (Boudet et al., 2020). Creating effective modeling for CTG exam data can provide additional support to those dedicated preventing harm and loss of life.  The goal of this project will be to build an effective model to classify CTG data using supervised machine learning.  \n",
    "\n",
    "***Data Selection*** \n",
    "\n",
    "The dataset chosen for model training contains 2126 instances of heart-health-related features taken from cardiotocogram exams of fetuses. These were then classified by three expert obstetricians into 3 classes: 1 – Normal, 2 – Suspect, or 3- Pathological, making the target a multi-class categorical feature. There are a total of 22 features, both numerical and categorical. We found this dataset on Kaggle, but it was originally published in the Journal of Maternal-Fetal & Neonatal Medicine in the year 2000. This dataset should be useful for creating a model that can predict suspect and pathological health outcomes, with the assumption that some of the features provided will be correlated with fetal heart health.  \n",
    "\n",
    "***Model Selection & Evaluation***  \n",
    "\n",
    "We plan to implement two different models for this project, both of which will perform classification on the fetal heart health target feature. The first model will be a neural network. We think that this dataset provides a good opportunity to train a neural network because of the substantial number of instances in the data. Neural networks are also considered some of the most accurate models, and they are ideal in a medical setting like this where accuracy is important. We plan to use the percentage of accuracy to score and evaluate this model. In this context where we are discussing medical diagnostics, a false negative has more detrimental outcomes to the patient's life than a false positive. Thus, we will review the confusion matrices in addition to the accuracy percentage, so that we can calculate rates for false positives and false negatives.  \n",
    "\n",
    "The second model we plan to use is Naïve Bayes classification model.  Although the dataset contains over 2,000 instances, it is possible that this amount of data is not sufficient to train a competent neural network. The Naïve Bayes model is recommended as an alternative in that circumstance. It also has a reputation as an effective classifier and has been proven useful in medical diagnostics (Simfukwe et al., 2015). Since we are still doing classification, we will be using accuracy and confusion matrices to evaluate the results of our model. We can compare the accuracy score of this model to the neural network model in this proposal. \n",
    "\n",
    "To ensure quality and accuracy, we plan to implement a variety of techniques to improve both models. We will need to clean the data, do some feature scaling, and feature selection. If there are any categorical features that are relevant to the model, we can create dummy variables with them before training the model. We plan to use a grid search to perform hyperparameter tuning on our models as well. Since the target feature has imbalanced classes, we will need to perform oversampling on the underrepresented classes. \n",
    "\n",
    "***Risks and Ethical Implications***   \n",
    "\n",
    "Machine learning and artificial intelligence has already earned space in healthcare with the increased use of AI diagnostic systems. Some common examples involve the interpretation of x-rays, MRI scans, CT scans, and other image-related tools of measurement. While machine learning healthcare applications (ML-HCAs) and AI recommendation systems can offer powerful insights for the medical field, limits must be acknowledged. The most fundamental limit being correlation is not causation, therefore their role must be additive to care, not a replacement for expertise. A common hope is that the addition of ML-HCAs and AI diagnostics will circumvent bias within the healthcare system, however, these tools are just as suspectable (Naik, 2022). The data used to train a diagnostic model is critical to how accurately these systems perform for diverse populations. It is unknown how these concerns apply to CTG exams of the unborn. For example, we do not know if CTG exams, in practice, predict or protect all groups equally. We also do not know at this time if the anomalies associated with fetal heart issues present the same across groups. For this project, however, we will assume the data is sound towards its purpose. \n",
    "\n",
    "***Contingency Proposal***     \n",
    "\n",
    "In the case that our original proposal is unsuccessful, the contingency plan will be to use an alternative dataset to train a regression model. We found a dataset that is intended to train models to predict the insurance premium price of an individual given certain health history data points about them. This dataset has 10 predicting features about the health history of an individual and 986 instances with no missing values. Since our target is continuous and we want to include multiple features, we will use a multiple regression model."
   ]
  },
  {
   "cell_type": "markdown",
   "id": "c2b54145",
   "metadata": {},
   "source": [
    "### Milestone 3"
   ]
  },
  {
   "cell_type": "markdown",
   "id": "74a73c65",
   "metadata": {},
   "source": [
    "***Will I be able to answer the questions I want to answer with the data I have?*** \n",
    "\n",
    "Our preliminary analysis suggests no reason our data should not perform suitably for modeling with some adjustments for scaling and normalization. No missing data was found. Histograms and descriptive statistics were used to conduct univariate analysis on all variables. Multivariate analysis was conducted using correlations matrices and box plots to illustrate variable distributions across our 3 target classes for fetal health outcome: Normal(1), Suspect(2), and Pathological(3).  \n",
    "\n",
    "Our preliminary analysis with correlations showed that variation in many of our features are associated with variations in our target classes. The relationships are not necessarily strong, but combined, they will likely offer appropriate training for our predictive models. The strongest relationships to our target classes were related to CTG features involving deceleration at .50 Tau and abnormal variability, with those Tau’s ranging from .25 to .43  \n",
    "\n",
    "***What visualizations are especially useful for explaining my data?*** \n",
    "\n",
    "Histograms, while simple, were in many ways most effective in conveying data issues to consider. Knowing data is skewed, differently scaled, imbalanced, or lacking variation in measures, lends a lot for our preprocessing needs as mentioned above. Histograms related to heart decelerations per second were found to be highly imbalanced. But upon further inspection using value counts, the rare values represented cases with the most serious health outcome, ‘pathological’. Box were effective in allowing us to understand how our features distribute and relate to our target classes. Short-term abnormal variability appeared to have a positive linear relationship across our target classes as they ranged from normal health to pathological. \n",
    "\n",
    "***Do I need to adjust the data and/or driving questions?*** \n",
    "\n",
    "The analysis shows that some steps, such as scaling, and normalization for some variables will have to be taken prior to being used as input for our models. Strong correlations between variables were also shown between different central measures related to ETC histograms (mean, median, and mode), which led to the dropping of variables for median and mode. We also know that our target data will require us to use sampling techniques to balance our target classes when model training. So, while changes will have to made, the data itself and questions remain appropriate.  \n",
    "\n",
    "***Do I need to adjust my model/evaluation choices?*** \n",
    "\n",
    "At this time, our model choices appear reasonable. We have chosen both a neural network classifier and a naive Bayes classifier for modeling and comparison. It is possible that the independent treatment of features within a naive Bayes may not be as well suited. The features may share probabilistic qualities with each other given the specialized topic. Box plots also illustrate what appear to be nuanced difference in feature distributions across target classes. While we do not have the domain expertise to objectively know, our current model choices can be compared to offer some insights. The confusions matrices we have chosen to evaluate results will help illustrate how well our model discerns between classes.  \n",
    "\n",
    "***Are my original expectations still reasonable?*** \n",
    "\n",
    "Given the steps we can take to prepare data for modeling, our plans for modeling seem reasonable. We will have a neural network classifier and a naïve Bayes classifier planned to compare. Our preliminary analysis shows no indication an effective model cannot result from this dataset. The target classes may be imbalanced, but we can utilize over sampling techniques to give our model more proportionate data to work with. The data has no missing values, and there is no reason to believe any of the observations were made in error. We also already know that many of our features have some established relevance to predicting fetal outcomes as they represent output features from existing diagnostic techniques."
   ]
  },
  {
   "cell_type": "markdown",
   "id": "e0d3863b",
   "metadata": {},
   "source": [
    "## Data Preparation"
   ]
  },
  {
   "cell_type": "code",
   "execution_count": 1,
   "id": "9e437f3d",
   "metadata": {},
   "outputs": [],
   "source": [
    "# Libraries\n",
    "import pandas as pd\n",
    "import numpy as np\n",
    "import matplotlib.pyplot as plt\n",
    "from sklearn.model_selection import train_test_split\n",
    "from sklearn.naive_bayes import ComplementNB\n",
    "from sklearn.metrics import accuracy_score, classification_report\n",
    "from sklearn.model_selection import GridSearchCV\n",
    "from sklearn.pipeline import make_pipeline\n",
    "from sklearn.model_selection import cross_validate\n",
    "\n",
    "\n",
    "\n",
    "from imblearn.over_sampling import RandomOverSampler\n",
    "from sklearn.pipeline import Pipeline, FeatureUnion\n",
    "from sklearn import preprocessing\n",
    "from sklearn.model_selection import GridSearchCV\n",
    "from sklearn.preprocessing import MinMaxScaler, StandardScaler, RobustScaler\n",
    "from sklearn.neural_network import MLPClassifier\n",
    "from sklearn.metrics import confusion_matrix, ConfusionMatrixDisplay"
   ]
  },
  {
   "cell_type": "code",
   "execution_count": 2,
   "id": "ce918434",
   "metadata": {},
   "outputs": [],
   "source": [
    "def get_tpr_fnr_fpr_tnr(cm):\n",
    "    \"\"\"\n",
    "    This function returns class-wise TPR, FNR, FPR & TNR\n",
    "    [[cm]]: a 2-D array of a multiclass confusion matrix\n",
    "            where horizontal axes represent actual classes\n",
    "            and vertical axes represent predicted classes\n",
    "    {output}: a dictionary of class-wise accuracy parameters\n",
    "    \"\"\"\n",
    "    dict_metric = dict()\n",
    "    n = len(cm[0])\n",
    "    row_sums = cm.sum(axis=1)\n",
    "    col_sums = cm.sum(axis=0)\n",
    "    array_sum = sum(sum(cm))\n",
    "    #initialize a blank nested dictionary\n",
    "    for i in range(1, n+1):\n",
    "        keys = str(i)\n",
    "        dict_metric[keys] = {\"TPR\":0, \"FNR\":0, \"FPR\":0, \"TNR\":0}\n",
    "    # calculate and store class-wise TPR, FNR, FPR, TNR\n",
    "    for i in range(n):\n",
    "        for j in range(n):\n",
    "            if i == j:\n",
    "                keys = str(i+1)\n",
    "                tp = cm[i, j]\n",
    "                fn = row_sums[i] - cm[i, j]\n",
    "                dict_metric[keys][\"TPR\"] = tp / (tp + fn)\n",
    "                dict_metric[keys][\"FNR\"] = fn / (tp + fn)\n",
    "                fp = col_sums[i] - cm[i, j]\n",
    "                tn = array_sum - tp - fn - fp\n",
    "                dict_metric[keys][\"FPR\"] = fp / (fp + tn)\n",
    "                dict_metric[keys][\"TNR\"] = tn / (fp + tn)\n",
    "    return dict_metric"
   ]
  },
  {
   "cell_type": "code",
   "execution_count": 3,
   "id": "abfb4456",
   "metadata": {},
   "outputs": [
    {
     "data": {
      "text/html": [
       "<div>\n",
       "<style scoped>\n",
       "    .dataframe tbody tr th:only-of-type {\n",
       "        vertical-align: middle;\n",
       "    }\n",
       "\n",
       "    .dataframe tbody tr th {\n",
       "        vertical-align: top;\n",
       "    }\n",
       "\n",
       "    .dataframe thead th {\n",
       "        text-align: right;\n",
       "    }\n",
       "</style>\n",
       "<table border=\"1\" class=\"dataframe\">\n",
       "  <thead>\n",
       "    <tr style=\"text-align: right;\">\n",
       "      <th></th>\n",
       "      <th>baseline value</th>\n",
       "      <th>accelerations</th>\n",
       "      <th>fetal_movement</th>\n",
       "      <th>uterine_contractions</th>\n",
       "      <th>light_decelerations</th>\n",
       "      <th>severe_decelerations</th>\n",
       "      <th>prolongued_decelerations</th>\n",
       "      <th>abnormal_short_term_variability</th>\n",
       "      <th>mean_value_of_short_term_variability</th>\n",
       "      <th>percentage_of_time_with_abnormal_long_term_variability</th>\n",
       "      <th>...</th>\n",
       "      <th>histogram_min</th>\n",
       "      <th>histogram_max</th>\n",
       "      <th>histogram_number_of_peaks</th>\n",
       "      <th>histogram_number_of_zeroes</th>\n",
       "      <th>histogram_mode</th>\n",
       "      <th>histogram_mean</th>\n",
       "      <th>histogram_median</th>\n",
       "      <th>histogram_variance</th>\n",
       "      <th>histogram_tendency</th>\n",
       "      <th>fetal_health</th>\n",
       "    </tr>\n",
       "  </thead>\n",
       "  <tbody>\n",
       "    <tr>\n",
       "      <th>0</th>\n",
       "      <td>120.0</td>\n",
       "      <td>0.000</td>\n",
       "      <td>0.0</td>\n",
       "      <td>0.000</td>\n",
       "      <td>0.000</td>\n",
       "      <td>0.0</td>\n",
       "      <td>0.0</td>\n",
       "      <td>73.0</td>\n",
       "      <td>0.5</td>\n",
       "      <td>43.0</td>\n",
       "      <td>...</td>\n",
       "      <td>62.0</td>\n",
       "      <td>126.0</td>\n",
       "      <td>2.0</td>\n",
       "      <td>0.0</td>\n",
       "      <td>120.0</td>\n",
       "      <td>137.0</td>\n",
       "      <td>121.0</td>\n",
       "      <td>73.0</td>\n",
       "      <td>1.0</td>\n",
       "      <td>2.0</td>\n",
       "    </tr>\n",
       "    <tr>\n",
       "      <th>1</th>\n",
       "      <td>132.0</td>\n",
       "      <td>0.006</td>\n",
       "      <td>0.0</td>\n",
       "      <td>0.006</td>\n",
       "      <td>0.003</td>\n",
       "      <td>0.0</td>\n",
       "      <td>0.0</td>\n",
       "      <td>17.0</td>\n",
       "      <td>2.1</td>\n",
       "      <td>0.0</td>\n",
       "      <td>...</td>\n",
       "      <td>68.0</td>\n",
       "      <td>198.0</td>\n",
       "      <td>6.0</td>\n",
       "      <td>1.0</td>\n",
       "      <td>141.0</td>\n",
       "      <td>136.0</td>\n",
       "      <td>140.0</td>\n",
       "      <td>12.0</td>\n",
       "      <td>0.0</td>\n",
       "      <td>1.0</td>\n",
       "    </tr>\n",
       "    <tr>\n",
       "      <th>2</th>\n",
       "      <td>133.0</td>\n",
       "      <td>0.003</td>\n",
       "      <td>0.0</td>\n",
       "      <td>0.008</td>\n",
       "      <td>0.003</td>\n",
       "      <td>0.0</td>\n",
       "      <td>0.0</td>\n",
       "      <td>16.0</td>\n",
       "      <td>2.1</td>\n",
       "      <td>0.0</td>\n",
       "      <td>...</td>\n",
       "      <td>68.0</td>\n",
       "      <td>198.0</td>\n",
       "      <td>5.0</td>\n",
       "      <td>1.0</td>\n",
       "      <td>141.0</td>\n",
       "      <td>135.0</td>\n",
       "      <td>138.0</td>\n",
       "      <td>13.0</td>\n",
       "      <td>0.0</td>\n",
       "      <td>1.0</td>\n",
       "    </tr>\n",
       "    <tr>\n",
       "      <th>3</th>\n",
       "      <td>134.0</td>\n",
       "      <td>0.003</td>\n",
       "      <td>0.0</td>\n",
       "      <td>0.008</td>\n",
       "      <td>0.003</td>\n",
       "      <td>0.0</td>\n",
       "      <td>0.0</td>\n",
       "      <td>16.0</td>\n",
       "      <td>2.4</td>\n",
       "      <td>0.0</td>\n",
       "      <td>...</td>\n",
       "      <td>53.0</td>\n",
       "      <td>170.0</td>\n",
       "      <td>11.0</td>\n",
       "      <td>0.0</td>\n",
       "      <td>137.0</td>\n",
       "      <td>134.0</td>\n",
       "      <td>137.0</td>\n",
       "      <td>13.0</td>\n",
       "      <td>1.0</td>\n",
       "      <td>1.0</td>\n",
       "    </tr>\n",
       "    <tr>\n",
       "      <th>4</th>\n",
       "      <td>132.0</td>\n",
       "      <td>0.007</td>\n",
       "      <td>0.0</td>\n",
       "      <td>0.008</td>\n",
       "      <td>0.000</td>\n",
       "      <td>0.0</td>\n",
       "      <td>0.0</td>\n",
       "      <td>16.0</td>\n",
       "      <td>2.4</td>\n",
       "      <td>0.0</td>\n",
       "      <td>...</td>\n",
       "      <td>53.0</td>\n",
       "      <td>170.0</td>\n",
       "      <td>9.0</td>\n",
       "      <td>0.0</td>\n",
       "      <td>137.0</td>\n",
       "      <td>136.0</td>\n",
       "      <td>138.0</td>\n",
       "      <td>11.0</td>\n",
       "      <td>1.0</td>\n",
       "      <td>1.0</td>\n",
       "    </tr>\n",
       "  </tbody>\n",
       "</table>\n",
       "<p>5 rows × 22 columns</p>\n",
       "</div>"
      ],
      "text/plain": [
       "   baseline value  accelerations  fetal_movement  uterine_contractions  \\\n",
       "0           120.0          0.000             0.0                 0.000   \n",
       "1           132.0          0.006             0.0                 0.006   \n",
       "2           133.0          0.003             0.0                 0.008   \n",
       "3           134.0          0.003             0.0                 0.008   \n",
       "4           132.0          0.007             0.0                 0.008   \n",
       "\n",
       "   light_decelerations  severe_decelerations  prolongued_decelerations  \\\n",
       "0                0.000                   0.0                       0.0   \n",
       "1                0.003                   0.0                       0.0   \n",
       "2                0.003                   0.0                       0.0   \n",
       "3                0.003                   0.0                       0.0   \n",
       "4                0.000                   0.0                       0.0   \n",
       "\n",
       "   abnormal_short_term_variability  mean_value_of_short_term_variability  \\\n",
       "0                             73.0                                   0.5   \n",
       "1                             17.0                                   2.1   \n",
       "2                             16.0                                   2.1   \n",
       "3                             16.0                                   2.4   \n",
       "4                             16.0                                   2.4   \n",
       "\n",
       "   percentage_of_time_with_abnormal_long_term_variability  ...  histogram_min  \\\n",
       "0                                               43.0       ...           62.0   \n",
       "1                                                0.0       ...           68.0   \n",
       "2                                                0.0       ...           68.0   \n",
       "3                                                0.0       ...           53.0   \n",
       "4                                                0.0       ...           53.0   \n",
       "\n",
       "   histogram_max  histogram_number_of_peaks  histogram_number_of_zeroes  \\\n",
       "0          126.0                        2.0                         0.0   \n",
       "1          198.0                        6.0                         1.0   \n",
       "2          198.0                        5.0                         1.0   \n",
       "3          170.0                       11.0                         0.0   \n",
       "4          170.0                        9.0                         0.0   \n",
       "\n",
       "   histogram_mode  histogram_mean  histogram_median  histogram_variance  \\\n",
       "0           120.0           137.0             121.0                73.0   \n",
       "1           141.0           136.0             140.0                12.0   \n",
       "2           141.0           135.0             138.0                13.0   \n",
       "3           137.0           134.0             137.0                13.0   \n",
       "4           137.0           136.0             138.0                11.0   \n",
       "\n",
       "   histogram_tendency  fetal_health  \n",
       "0                 1.0           2.0  \n",
       "1                 0.0           1.0  \n",
       "2                 0.0           1.0  \n",
       "3                 1.0           1.0  \n",
       "4                 1.0           1.0  \n",
       "\n",
       "[5 rows x 22 columns]"
      ]
     },
     "execution_count": 3,
     "metadata": {},
     "output_type": "execute_result"
    }
   ],
   "source": [
    "df = pd.read_csv('fetal_health.csv')\n",
    "df.head()"
   ]
  },
  {
   "cell_type": "code",
   "execution_count": 4,
   "id": "73ca67f5",
   "metadata": {},
   "outputs": [],
   "source": [
    "# Drop highly correlated variables\n",
    "# 0.9 Threshold as described in Milestone 3\n",
    "\n",
    "# Histogram mode and median highly correlate with hisogram mean\n",
    "df.drop(['histogram_median', 'histogram_mode', ], axis=1, inplace=True)"
   ]
  },
  {
   "cell_type": "markdown",
   "id": "d0601fe1",
   "metadata": {},
   "source": [
    "## Null Model for Comparison"
   ]
  },
  {
   "cell_type": "markdown",
   "id": "39959648",
   "metadata": {},
   "source": [
    "Below we will calculate the accuracy of a model that simply always chooses the most likely outcome. In this case the model will predict that all fetal heart health outcomes are healthy."
   ]
  },
  {
   "cell_type": "code",
   "execution_count": 5,
   "id": "3c4d4f6e",
   "metadata": {},
   "outputs": [],
   "source": [
    "# seperate target feature\n",
    "x = df.drop(['fetal_health'], axis=1)\n",
    "y = df['fetal_health']"
   ]
  },
  {
   "cell_type": "code",
   "execution_count": 6,
   "id": "b488d24a",
   "metadata": {},
   "outputs": [],
   "source": [
    "# split into training and testing sets\n",
    "x_train, x_test, y_train, y_test = train_test_split(x, y, test_size = 0.20, random_state = 0)"
   ]
  },
  {
   "cell_type": "code",
   "execution_count": 7,
   "id": "15b338b5",
   "metadata": {},
   "outputs": [
    {
     "data": {
      "text/plain": [
       "1.0    326\n",
       "2.0     58\n",
       "3.0     42\n",
       "Name: fetal_health, dtype: int64"
      ]
     },
     "execution_count": 7,
     "metadata": {},
     "output_type": "execute_result"
    }
   ],
   "source": [
    "# check class distribution in test set\n",
    "y_test.value_counts()"
   ]
  },
  {
   "cell_type": "code",
   "execution_count": 8,
   "id": "dae79f29",
   "metadata": {},
   "outputs": [
    {
     "name": "stdout",
     "output_type": "stream",
     "text": [
      "Null accuracy score: 0.7790\n"
     ]
    }
   ],
   "source": [
    "# check null accuracy score\n",
    "null_accuracy = (497/(497+94+47))\n",
    "print('Null accuracy score: {0:0.4f}'. format(null_accuracy))"
   ]
  },
  {
   "cell_type": "code",
   "execution_count": 9,
   "id": "85ac1656",
   "metadata": {},
   "outputs": [],
   "source": [
    "# So we need to score above 78% to be a good model"
   ]
  },
  {
   "cell_type": "markdown",
   "id": "33e0e36f",
   "metadata": {},
   "source": [
    "## Complement Naive Bayes"
   ]
  },
  {
   "cell_type": "markdown",
   "id": "dfa3b2db",
   "metadata": {},
   "source": [
    "### Preparation"
   ]
  },
  {
   "cell_type": "markdown",
   "id": "0e369794",
   "metadata": {},
   "source": [
    "For the Naïve Bayes classifier, we chose to use the Complement Naïve Bayes due to its ability to handle imbalanced classes in the target feature. We used a train-test-split ratio of 80/20 because it yielded the highest accuracy of any ratio we tested, without overfitting the model too much. We then applied a minmax scalar because the model only accepts positive values as input. After that we did a grid search to perform hyperparameter tuning on the only hyperparameter in a complement naïve Bayes model, using accuracy as our scoring metric. "
   ]
  },
  {
   "cell_type": "code",
   "execution_count": 10,
   "id": "088a922a",
   "metadata": {},
   "outputs": [],
   "source": [
    "# seperate target feature\n",
    "X = df.drop(['fetal_health'], axis=1)\n",
    "y = df['fetal_health']"
   ]
  },
  {
   "cell_type": "code",
   "execution_count": 11,
   "id": "9e3d8568",
   "metadata": {},
   "outputs": [],
   "source": [
    "# Splitting the data into train and test sets\n",
    "X_train, X_test, y_train, y_test = train_test_split(X, y, test_size = 0.20, random_state=0)"
   ]
  },
  {
   "cell_type": "code",
   "execution_count": 12,
   "id": "46775319",
   "metadata": {},
   "outputs": [],
   "source": [
    "# Scaling\n",
    "scaler = MinMaxScaler()\n",
    "# I had to use this particular scalar because of negative numbers error\n",
    "X_train = scaler.fit_transform(X_train)\n",
    "X_test = scaler.transform(X_test)"
   ]
  },
  {
   "cell_type": "markdown",
   "id": "4f9c1145",
   "metadata": {},
   "source": [
    "### Hyperparameter Tuning for Model Training"
   ]
  },
  {
   "cell_type": "code",
   "execution_count": 13,
   "id": "870d3454",
   "metadata": {},
   "outputs": [],
   "source": [
    "# gridsearch values\n",
    "grid_vals = {\"alpha\": [0.1, 0.2, 0.3, 0.4, 0.5, 0.6, 0.7, 0.8, 0.9, \n",
    "                       1, 2, 3, 4, 5, 6, 7, 8, 9, \n",
    "                      10, 11, 12, 13, 14, 15, 16, 17, 18, 19,\n",
    "                      20, 21, 22, 23, 24, 25, 26, 27, 28, 29,\n",
    "                      30, 31, 32, 33, 34, 35, 36, 37, 38, 39,\n",
    "                      40, 41, 42, 43, 44, 45, 46, 47, 48, 49,\n",
    "                      50, 51, 52, 53, 54, 55, 56, 57, 48, 59,\n",
    "                      60, 61, 62, 63, 64, 65, 66, 67, 68, 69,\n",
    "                      70, 71, 72, 73, 74, 75, 76, 77, 78, 79,\n",
    "                      80, 81, 82, 83, 84, 85, 86, 87, 88, 89,\n",
    "                      90, 91, 92, 93, 94, 95, 96, 97, 98, 99, 100]}"
   ]
  },
  {
   "cell_type": "code",
   "execution_count": 14,
   "id": "2ef181c6",
   "metadata": {},
   "outputs": [],
   "source": [
    "# gridsearch model\n",
    "grid_lr = GridSearchCV(estimator=ComplementNB(), param_grid=grid_vals, scoring='accuracy', \n",
    "                       cv=6, refit=True, return_train_score=True) "
   ]
  },
  {
   "cell_type": "code",
   "execution_count": 15,
   "id": "30f7edc5",
   "metadata": {},
   "outputs": [],
   "source": [
    "#Training and Prediction\n",
    "tuned_classifier = grid_lr.fit(X_train, y_train)\n",
    "tuned_preds = grid_lr.best_estimator_.predict(X_test)"
   ]
  },
  {
   "cell_type": "code",
   "execution_count": 16,
   "id": "b8c8c881",
   "metadata": {},
   "outputs": [
    {
     "name": "stdout",
     "output_type": "stream",
     "text": [
      "Tuned Gaussian NB Parameter: {'alpha': 49}\n"
     ]
    }
   ],
   "source": [
    "# Print the tuned parameters and score\n",
    "print(\"Tuned Gaussian NB Parameter: {}\".format(grid_lr.best_params_))"
   ]
  },
  {
   "cell_type": "markdown",
   "id": "2fa17711",
   "metadata": {},
   "source": [
    "### Evaluation"
   ]
  },
  {
   "cell_type": "code",
   "execution_count": 17,
   "id": "9fb27b37",
   "metadata": {},
   "outputs": [],
   "source": [
    "# cross validate\n",
    "scores3 = cross_validate(tuned_classifier, X_train, y_train, return_train_score=True)\n",
    "scores_df3 = pd.DataFrame(scores3)"
   ]
  },
  {
   "cell_type": "code",
   "execution_count": 18,
   "id": "e7af2324",
   "metadata": {},
   "outputs": [
    {
     "data": {
      "text/plain": [
       "fit_time       1.035413\n",
       "score_time     0.000596\n",
       "test_score     0.847059\n",
       "train_score    0.850147\n",
       "dtype: float64"
      ]
     },
     "execution_count": 18,
     "metadata": {},
     "output_type": "execute_result"
    }
   ],
   "source": [
    "scores_df3.mean()\n",
    "# Looks like we could be over fitting but the model is performing better than null"
   ]
  },
  {
   "cell_type": "code",
   "execution_count": 19,
   "id": "b3ca5d73",
   "metadata": {
    "scrolled": true
   },
   "outputs": [
    {
     "data": {
      "text/html": [
       "<div>\n",
       "<style scoped>\n",
       "    .dataframe tbody tr th:only-of-type {\n",
       "        vertical-align: middle;\n",
       "    }\n",
       "\n",
       "    .dataframe tbody tr th {\n",
       "        vertical-align: top;\n",
       "    }\n",
       "\n",
       "    .dataframe thead th {\n",
       "        text-align: right;\n",
       "    }\n",
       "</style>\n",
       "<table border=\"1\" class=\"dataframe\">\n",
       "  <thead>\n",
       "    <tr style=\"text-align: right;\">\n",
       "      <th></th>\n",
       "      <th>TPR</th>\n",
       "      <th>FNR</th>\n",
       "      <th>FPR</th>\n",
       "      <th>TNR</th>\n",
       "    </tr>\n",
       "  </thead>\n",
       "  <tbody>\n",
       "    <tr>\n",
       "      <th>1</th>\n",
       "      <td>0.892638</td>\n",
       "      <td>0.107362</td>\n",
       "      <td>0.300000</td>\n",
       "      <td>0.700000</td>\n",
       "    </tr>\n",
       "    <tr>\n",
       "      <th>2</th>\n",
       "      <td>0.534483</td>\n",
       "      <td>0.465517</td>\n",
       "      <td>0.105978</td>\n",
       "      <td>0.894022</td>\n",
       "    </tr>\n",
       "    <tr>\n",
       "      <th>3</th>\n",
       "      <td>0.595238</td>\n",
       "      <td>0.404762</td>\n",
       "      <td>0.026042</td>\n",
       "      <td>0.973958</td>\n",
       "    </tr>\n",
       "  </tbody>\n",
       "</table>\n",
       "</div>"
      ],
      "text/plain": [
       "        TPR       FNR       FPR       TNR\n",
       "1  0.892638  0.107362  0.300000  0.700000\n",
       "2  0.534483  0.465517  0.105978  0.894022\n",
       "3  0.595238  0.404762  0.026042  0.973958"
      ]
     },
     "execution_count": 19,
     "metadata": {},
     "output_type": "execute_result"
    }
   ],
   "source": [
    "# Print the Confusion Matrix\n",
    "cm = confusion_matrix(y_test, tuned_preds)\n",
    "conf_mat = pd.DataFrame(get_tpr_fnr_fpr_tnr(cm)).transpose()\n",
    "conf_mat"
   ]
  },
  {
   "cell_type": "markdown",
   "id": "18923363",
   "metadata": {},
   "source": [
    "## Multilayer Perceptron NN Classifier"
   ]
  },
  {
   "cell_type": "markdown",
   "id": "b4dd833b",
   "metadata": {},
   "source": [
    "For our neural network model, a multilayer perceptive classifier was chosen for our project. Given the strong imbalances between classes, data was train-test-split in a stratified manner. This offered assurance that classes with small counts were not further reduced during the split.  A train-test-split ratio of 80/20 was chosen to offer our model a wider range training cases to learn from. To further accommodate the imbalance between class counts, oversampling was also conducted to increase class counts to match the larger class count, of 1323. This method was chosen instead of under-sampling to better compliment this model type which is characterized to benefit from larger training sets.  Two scalers were tested and a standard scaler proved to provide slightly higher accuracy."
   ]
  },
  {
   "cell_type": "code",
   "execution_count": 20,
   "id": "94dd6f37",
   "metadata": {},
   "outputs": [
    {
     "name": "stdout",
     "output_type": "stream",
     "text": [
      "(1700, 19) (1700,) (426, 19) (426,)\n"
     ]
    }
   ],
   "source": [
    "# train test split data using stratify to preserve the class ratios\n",
    "train_X, test_X, train_y, test_y = train_test_split(X,y, test_size = 0.2, stratify = y, random_state = 5)\n",
    "# Check shape\n",
    "print(train_X.shape, train_y.shape, test_X.shape, test_y.shape)"
   ]
  },
  {
   "cell_type": "code",
   "execution_count": 21,
   "id": "a79b32ff",
   "metadata": {},
   "outputs": [],
   "source": [
    "# Random Oversampling\n",
    "over_sampler = RandomOverSampler(sampling_strategy = 'auto', random_state = 0)\n",
    "ros_X, ros_y = over_sampler.fit_resample(train_X,train_y)"
   ]
  },
  {
   "cell_type": "code",
   "execution_count": 22,
   "id": "b32ede4c",
   "metadata": {},
   "outputs": [
    {
     "data": {
      "text/plain": [
       "2.0    1323\n",
       "1.0    1323\n",
       "3.0    1323\n",
       "Name: fetal_health, dtype: int64"
      ]
     },
     "execution_count": 22,
     "metadata": {},
     "output_type": "execute_result"
    }
   ],
   "source": [
    "# Check counts/oversampling results\n",
    "ros_y.value_counts()"
   ]
  },
  {
   "cell_type": "code",
   "execution_count": 23,
   "id": "2592b90b",
   "metadata": {},
   "outputs": [],
   "source": [
    "# Encode classes so they are 0-2 instead of 1-3\n",
    "# Now training y and test_y will be label encoded and oversampled\n",
    "enc = preprocessing.LabelEncoder()\n",
    "ros_y = enc.fit_transform(ros_y)\n",
    "test_y = enc.transform(test_y)"
   ]
  },
  {
   "cell_type": "code",
   "execution_count": 24,
   "id": "51d536b8",
   "metadata": {},
   "outputs": [],
   "source": [
    "# Create scaler\n",
    "scaler = StandardScaler()\n",
    "# Create Model Instance for gridsearching parameters\n",
    "mlp = MLPClassifier()\n",
    "# Create pipeline\n",
    "pipe = Pipeline(steps=[('scaler', scaler ), ('mlpc', mlp)])"
   ]
  },
  {
   "cell_type": "code",
   "execution_count": 25,
   "id": "04159a60",
   "metadata": {},
   "outputs": [],
   "source": [
    "#mlp.get_params()"
   ]
  },
  {
   "cell_type": "code",
   "execution_count": 26,
   "id": "6005dbf5",
   "metadata": {},
   "outputs": [],
   "source": [
    "# # Define gridspace\n",
    "# param_grid= [{'mlpc__activation': ['relu','tanh'],\n",
    "#              'mlpc__alpha': [0.0025, 0.05, 0.5 ],\n",
    "#              'mlpc__hidden_layer_sizes': [(12,6)],\n",
    "#              'mlpc__max_iter': [2000],\n",
    "#              'mlpc__solver': ['adam','lbfgs'],\n",
    "#              'mlpc__batch_size': [20,30,50],\n",
    "#              'mlpc__learning_rate':['invscaling','adaptive']\n",
    "#              }]"
   ]
  },
  {
   "cell_type": "code",
   "execution_count": 27,
   "id": "fc3c1e71",
   "metadata": {},
   "outputs": [],
   "source": [
    "# # Run a new gridsearch with new search_space\n",
    "# grid_mlp = GridSearchCV(pipe, param_grid, n_jobs= -1, cv = 2, verbose = 0)"
   ]
  },
  {
   "cell_type": "code",
   "execution_count": 28,
   "id": "5312400c",
   "metadata": {},
   "outputs": [],
   "source": [
    "# # Fit grid search\n",
    "# grid_mlp.fit(ros_X,ros_y)"
   ]
  },
  {
   "cell_type": "code",
   "execution_count": 29,
   "id": "a0951078",
   "metadata": {},
   "outputs": [],
   "source": [
    "# grid_mlp.best_params_"
   ]
  },
  {
   "cell_type": "code",
   "execution_count": 30,
   "id": "011bd930",
   "metadata": {},
   "outputs": [],
   "source": [
    "# print('Best score: ', grid_mlp.best_score_)\n",
    "# print('Test Accuracy: ', grid_mlp.score(test_X, test_y))"
   ]
  },
  {
   "cell_type": "code",
   "execution_count": 31,
   "id": "9d8ed322",
   "metadata": {},
   "outputs": [],
   "source": [
    "# Create MLP model with chosen params\n",
    "best_mlp = MLPClassifier(\n",
    "                        activation= 'tanh', \n",
    "                        alpha = 0.001, \n",
    "                        hidden_layer_sizes = (12,6), \n",
    "                        max_iter = 2000, \n",
    "                        solver = 'lbfgs',\n",
    "                        random_state = 12,\n",
    "                        learning_rate = 'adaptive'\n",
    "                        )"
   ]
  },
  {
   "cell_type": "code",
   "execution_count": 32,
   "id": "938ae49f",
   "metadata": {},
   "outputs": [],
   "source": [
    "# Update pipeline\n",
    "pipe = Pipeline(steps=[('scaler', scaler ), ('mlpc', best_mlp)])\n",
    "\n",
    "# Fit to features\n",
    "pipe.fit(ros_X, ros_y)\n",
    "\n",
    "# Get predictions\n",
    "pred_y = pipe.predict(test_X)"
   ]
  },
  {
   "cell_type": "code",
   "execution_count": 33,
   "id": "162bef1c",
   "metadata": {},
   "outputs": [
    {
     "data": {
      "text/plain": [
       "0.9107981220657277"
      ]
     },
     "execution_count": 33,
     "metadata": {},
     "output_type": "execute_result"
    }
   ],
   "source": [
    "# Get accuracy of predictions\n",
    "accuracy_score(test_y, pred_y)"
   ]
  },
  {
   "cell_type": "code",
   "execution_count": 34,
   "id": "bbf60cad",
   "metadata": {},
   "outputs": [],
   "source": [
    "# Create confusion matrix\n",
    "cm = confusion_matrix(test_y, pred_y)"
   ]
  },
  {
   "cell_type": "code",
   "execution_count": 35,
   "id": "afa6d9f6",
   "metadata": {},
   "outputs": [
    {
     "data": {
      "image/png": "[encoded data removed]",
      "text/plain": [
       "<Figure size 432x288 with 2 Axes>"
      ]
     },
     "metadata": {
      "needs_background": "light"
     },
     "output_type": "display_data"
    }
   ],
   "source": [
    "# use display matrix function to heatmap prediction/true cases\n",
    "disp = ConfusionMatrixDisplay(confusion_matrix=cm)\n",
    "disp.plot()\n",
    "\n",
    "plt.show()"
   ]
  },
  {
   "cell_type": "code",
   "execution_count": 36,
   "id": "7d1fd0be",
   "metadata": {},
   "outputs": [
    {
     "data": {
      "text/html": [
       "<div>\n",
       "<style scoped>\n",
       "    .dataframe tbody tr th:only-of-type {\n",
       "        vertical-align: middle;\n",
       "    }\n",
       "\n",
       "    .dataframe tbody tr th {\n",
       "        vertical-align: top;\n",
       "    }\n",
       "\n",
       "    .dataframe thead th {\n",
       "        text-align: right;\n",
       "    }\n",
       "</style>\n",
       "<table border=\"1\" class=\"dataframe\">\n",
       "  <thead>\n",
       "    <tr style=\"text-align: right;\">\n",
       "      <th></th>\n",
       "      <th>TPR</th>\n",
       "      <th>FNR</th>\n",
       "      <th>FPR</th>\n",
       "      <th>TNR</th>\n",
       "    </tr>\n",
       "  </thead>\n",
       "  <tbody>\n",
       "    <tr>\n",
       "      <th>1</th>\n",
       "      <td>0.954819</td>\n",
       "      <td>0.045181</td>\n",
       "      <td>0.159574</td>\n",
       "      <td>0.840426</td>\n",
       "    </tr>\n",
       "    <tr>\n",
       "      <th>2</th>\n",
       "      <td>0.745763</td>\n",
       "      <td>0.254237</td>\n",
       "      <td>0.049046</td>\n",
       "      <td>0.950954</td>\n",
       "    </tr>\n",
       "    <tr>\n",
       "      <th>3</th>\n",
       "      <td>0.771429</td>\n",
       "      <td>0.228571</td>\n",
       "      <td>0.012788</td>\n",
       "      <td>0.987212</td>\n",
       "    </tr>\n",
       "  </tbody>\n",
       "</table>\n",
       "</div>"
      ],
      "text/plain": [
       "        TPR       FNR       FPR       TNR\n",
       "1  0.954819  0.045181  0.159574  0.840426\n",
       "2  0.745763  0.254237  0.049046  0.950954\n",
       "3  0.771429  0.228571  0.012788  0.987212"
      ]
     },
     "execution_count": 36,
     "metadata": {},
     "output_type": "execute_result"
    }
   ],
   "source": [
    "rates_df = pd.DataFrame(get_tpr_fnr_fpr_tnr(cm)).transpose()\n",
    "rates_df"
   ]
  },
  {
   "cell_type": "markdown",
   "id": "18075946",
   "metadata": {},
   "source": [
    "## Results"
   ]
  },
  {
   "cell_type": "markdown",
   "id": "f6414de9",
   "metadata": {},
   "source": [
    "In evaluation of the complement naïve Bayes model, we primarily used accuracy but also looked more closely at false positive rates, false negative rates, true positive rates, and true negative rates. For the test data, the average accuracy was approximately 84.7% and for the test data the average accuracy was approximately 85%. This could imply some overfitting is happening with this model. But when we look more closely at the true positive rates for each of the categorical outcomes, we do have some serious concerns. It appears that this model is very accurate at predicting healthy outcomes, with an accuracy of 89%, but much worse at correctly predicting other fetal health outcomes, with accuracies of less than 60%. "
   ]
  },
  {
   "cell_type": "code",
   "execution_count": 37,
   "id": "ac60fb47",
   "metadata": {},
   "outputs": [],
   "source": [
    "#----will add my eval section here"
   ]
  },
  {
   "cell_type": "markdown",
   "id": "3659d76b",
   "metadata": {},
   "source": [
    "## Conclusion and Ethical Implications"
   ]
  },
  {
   "cell_type": "markdown",
   "id": "3da9343c",
   "metadata": {},
   "source": [
    "Since the purpose of these models is to identify unhealthy fetal heart health outcomes, we feel that these models are not accurate enough to be deployed for diagnostic purposes."
   ]
  },
  {
   "cell_type": "code",
   "execution_count": null,
   "id": "651ee1e1",
   "metadata": {},
   "outputs": [],
   "source": []
  }
 ],
 "metadata": {
  "kernelspec": {
   "display_name": "Python 3",
   "language": "python",
   "name": "python3"
  },
  "language_info": {
   "codemirror_mode": {
    "name": "ipython",
    "version": 3
   },
   "file_extension": ".py",
   "mimetype": "text/x-python",
   "name": "python",
   "nbconvert_exporter": "python",
   "pygments_lexer": "ipython3",
   "version": "3.8.8"
  }
 },
 "nbformat": 4,
 "nbformat_minor": 5
}
